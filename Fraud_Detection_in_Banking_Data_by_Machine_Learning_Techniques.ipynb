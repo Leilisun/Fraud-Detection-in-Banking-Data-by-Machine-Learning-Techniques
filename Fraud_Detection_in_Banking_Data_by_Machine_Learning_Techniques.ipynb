{
  "cells": [
    {
      "cell_type": "markdown",
      "metadata": {
        "id": "2X9hqO_5JK73"
      },
      "source": [
        "# **Overall WorkFlow**\n",
        "\n",
        "### 1. Preprocessing Before Modeling\n",
        "### 2. Hyperparameter Tuning - Bayesian Optimization\n",
        "### 3. Voting \n",
        "### 4. CrossValidation for Evaluation of results\n",
        "### 5. Plot Diagram\n",
        "### 6. Deep Learning\n",
        "### 7. Hyperparameter Tuning - Bayesian Optimization"
      ]
    },
    {
      "cell_type": "markdown",
      "metadata": {
        "id": "QLu0EyR94JOU"
      },
      "source": [
        "# ***Basic***"
      ]
    },
    {
      "cell_type": "markdown",
      "metadata": {
        "id": "xIkQuF_bErp5"
      },
      "source": [
        "# ***pip install***"
      ]
    },
    {
      "cell_type": "code",
      "execution_count": null,
      "metadata": {
        "colab": {
          "base_uri": "https://localhost:8080/"
        },
        "id": "KFrc47vnjFG8",
        "outputId": "6eef8a1d-d05b-43da-87b3-6c9fb220bbe2"
      },
      "outputs": [
        {
          "output_type": "stream",
          "name": "stdout",
          "text": [
            "Looking in indexes: https://pypi.org/simple, https://us-python.pkg.dev/colab-wheels/public/simple/\n",
            "Collecting bayesian-optimization\n",
            "  Downloading bayesian-optimization-1.2.0.tar.gz (14 kB)\n",
            "Requirement already satisfied: numpy>=1.9.0 in /usr/local/lib/python3.7/dist-packages (from bayesian-optimization) (1.21.6)\n",
            "Requirement already satisfied: scipy>=0.14.0 in /usr/local/lib/python3.7/dist-packages (from bayesian-optimization) (1.4.1)\n",
            "Requirement already satisfied: scikit-learn>=0.18.0 in /usr/local/lib/python3.7/dist-packages (from bayesian-optimization) (1.0.2)\n",
            "Requirement already satisfied: joblib>=0.11 in /usr/local/lib/python3.7/dist-packages (from scikit-learn>=0.18.0->bayesian-optimization) (1.1.0)\n",
            "Requirement already satisfied: threadpoolctl>=2.0.0 in /usr/local/lib/python3.7/dist-packages (from scikit-learn>=0.18.0->bayesian-optimization) (3.1.0)\n",
            "Building wheels for collected packages: bayesian-optimization\n",
            "  Building wheel for bayesian-optimization (setup.py) ... \u001b[?25l\u001b[?25hdone\n",
            "  Created wheel for bayesian-optimization: filename=bayesian_optimization-1.2.0-py3-none-any.whl size=11685 sha256=72742e91124f2171b8acf936361c98e49dc953264851900471728f4be4ffd2dc\n",
            "  Stored in directory: /root/.cache/pip/wheels/fd/9b/71/f127d694e02eb40bcf18c7ae9613b88a6be4470f57a8528c5b\n",
            "Successfully built bayesian-optimization\n",
            "Installing collected packages: bayesian-optimization\n",
            "Successfully installed bayesian-optimization-1.2.0\n"
          ]
        }
      ],
      "source": [
        "!pip install bayesian-optimization"
      ]
    },
    {
      "cell_type": "code",
      "execution_count": null,
      "metadata": {
        "colab": {
          "base_uri": "https://localhost:8080/"
        },
        "id": "5zE9EXjsjF_G",
        "outputId": "f577513a-6644-40b7-8f43-8feadb1b6ea6"
      },
      "outputs": [
        {
          "output_type": "stream",
          "name": "stdout",
          "text": [
            "Looking in indexes: https://pypi.org/simple, https://us-python.pkg.dev/colab-wheels/public/simple/\n",
            "Collecting catboost\n",
            "  Downloading catboost-1.0.6-cp37-none-manylinux1_x86_64.whl (76.6 MB)\n",
            "\u001b[K     |████████████████████████████████| 76.6 MB 85 kB/s \n",
            "\u001b[?25hRequirement already satisfied: matplotlib in /usr/local/lib/python3.7/dist-packages (from catboost) (3.2.2)\n",
            "Requirement already satisfied: pandas>=0.24.0 in /usr/local/lib/python3.7/dist-packages (from catboost) (1.3.5)\n",
            "Requirement already satisfied: plotly in /usr/local/lib/python3.7/dist-packages (from catboost) (5.5.0)\n",
            "Requirement already satisfied: six in /usr/local/lib/python3.7/dist-packages (from catboost) (1.15.0)\n",
            "Requirement already satisfied: numpy>=1.16.0 in /usr/local/lib/python3.7/dist-packages (from catboost) (1.21.6)\n",
            "Requirement already satisfied: scipy in /usr/local/lib/python3.7/dist-packages (from catboost) (1.4.1)\n",
            "Requirement already satisfied: graphviz in /usr/local/lib/python3.7/dist-packages (from catboost) (0.10.1)\n",
            "Requirement already satisfied: python-dateutil>=2.7.3 in /usr/local/lib/python3.7/dist-packages (from pandas>=0.24.0->catboost) (2.8.2)\n",
            "Requirement already satisfied: pytz>=2017.3 in /usr/local/lib/python3.7/dist-packages (from pandas>=0.24.0->catboost) (2022.1)\n",
            "Requirement already satisfied: cycler>=0.10 in /usr/local/lib/python3.7/dist-packages (from matplotlib->catboost) (0.11.0)\n",
            "Requirement already satisfied: kiwisolver>=1.0.1 in /usr/local/lib/python3.7/dist-packages (from matplotlib->catboost) (1.4.3)\n",
            "Requirement already satisfied: pyparsing!=2.0.4,!=2.1.2,!=2.1.6,>=2.0.1 in /usr/local/lib/python3.7/dist-packages (from matplotlib->catboost) (3.0.9)\n",
            "Requirement already satisfied: typing-extensions in /usr/local/lib/python3.7/dist-packages (from kiwisolver>=1.0.1->matplotlib->catboost) (4.1.1)\n",
            "Requirement already satisfied: tenacity>=6.2.0 in /usr/local/lib/python3.7/dist-packages (from plotly->catboost) (8.0.1)\n",
            "Installing collected packages: catboost\n",
            "Successfully installed catboost-1.0.6\n"
          ]
        }
      ],
      "source": [
        "!pip install catboost"
      ]
    },
    {
      "cell_type": "markdown",
      "metadata": {
        "id": "_cYFHYRGhpeJ"
      },
      "source": [
        "# ***library***"
      ]
    },
    {
      "cell_type": "code",
      "execution_count": null,
      "metadata": {
        "id": "MVI02zqeksCK"
      },
      "outputs": [],
      "source": [
        "# basics\n",
        "from IPython import get_ipython\n",
        "get_ipython().magic('reset -sf')\n",
        "import pandas as pd\n",
        "import cv2\n",
        "import numpy as np\n",
        "from collections import Counter\n",
        "import matplotlib.pyplot as plt\n",
        "%matplotlib inline\n",
        "import scipy.stats as stats\n",
        "import seaborn as sns\n",
        "from glob import glob\n",
        "import os\n",
        "plt.style.use('ggplot')\n",
        "from bayes_opt import BayesianOptimization\n",
        "import tensorflow as tf\n",
        "from sklearn.manifold import TSNE\n",
        "from sklearn.decomposition import PCA, TruncatedSVD\n",
        "import matplotlib.patches as mpatches\n",
        "import time\n",
        "\n",
        "# preprocess\n",
        "from sklearn.model_selection import train_test_split, StratifiedKFold\n",
        "from sklearn.preprocessing import PowerTransformer\n",
        "\n",
        "# Classifier Libraries\n",
        "import collections\n",
        "from lightgbm import LGBMClassifier\n",
        "\n",
        "# preprocess\n",
        "from imblearn.pipeline import Pipeline, make_pipeline\n",
        "from imblearn import under_sampling\n",
        "from imblearn.over_sampling import RandomOverSampler\n",
        "from imblearn.over_sampling import SMOTE\n",
        "from sklearn.model_selection import KFold, StratifiedKFold\n",
        "from sklearn.model_selection import train_test_split\n",
        "from sklearn.preprocessing import PowerTransformer\n",
        "from sklearn.preprocessing import RobustScaler\n",
        "from sklearn.preprocessing import StandardScaler\n",
        "from collections import Counter\n",
        "\n",
        "# Classifier Libraries\n",
        "from sklearn.linear_model import LogisticRegression\n",
        "from sklearn.ensemble import VotingClassifier\n",
        "import collections\n",
        "from lightgbm import LGBMClassifier\n",
        "from sklearn.naive_bayes import GaussianNB\n",
        "import lightgbm as lgb\n",
        "from catboost import CatBoostClassifier\n",
        "from xgboost import XGBClassifier\n",
        "import xgboost as xgb\n",
        "import catboost as cgb\n",
        "from functools import partial\n",
        "\n",
        "#keras\n",
        "import tensorflow.keras.initializers\n",
        "import tensorflow.keras\n",
        "from tensorflow import keras\n",
        "import keras \n",
        "from keras.models import Sequential\n",
        "from keras.layers import Dense\n",
        "from keras.wrappers.scikit_learn import KerasClassifier\n",
        "import statistics\n",
        "from tensorflow.keras.models import Sequential\n",
        "from tensorflow.keras.layers import Dense, Activation, InputLayer\n",
        "from tensorflow.keras import regularizers\n",
        "from tensorflow.keras.callbacks import EarlyStopping\n",
        "from tensorflow.keras.optimizers import Adam\n",
        "\n",
        "# resample\n",
        "from imblearn.over_sampling import RandomOverSampler\n",
        "from imblearn.under_sampling import RandomUnderSampler\n",
        "from imblearn.over_sampling import SMOTE\n",
        "from imblearn import under_sampling\n",
        "\n",
        "# imbalanced\n",
        "from imblearn.pipeline import Pipeline\n",
        "from sklearn.pipeline import make_pipeline\n",
        "from imblearn.pipeline import make_pipeline as imbalanced_make_pipeline\n",
        "from imblearn.metrics import classification_report_imbalanced\n",
        "\n",
        "# evalue\n",
        "from numpy import mean\n",
        "from sklearn import metrics\n",
        "from sklearn.model_selection import cross_validate\n",
        "from sklearn.model_selection import cross_val_score\n",
        "from sklearn.metrics import roc_auc_score\n",
        "from sklearn.metrics import precision_score, recall_score\n",
        "from sklearn.metrics import average_precision_score \n",
        "from sklearn.metrics import log_loss\n",
        "from sklearn.metrics import precision_recall_curve, plot_precision_recall_curve\n",
        "from sklearn.metrics import SCORERS\n",
        "from sklearn.metrics import classification_report, f1_score\n",
        "from sklearn.metrics import roc_curve, plot_roc_curve\n",
        "from sklearn.metrics import confusion_matrix\n",
        "from sklearn.metrics import accuracy_score\n",
        "from sklearn.metrics import matthews_corrcoef\n",
        "\n",
        "# warning\n",
        "import warnings\n",
        "warnings.filterwarnings(\"ignore\")"
      ]
    },
    {
      "cell_type": "code",
      "execution_count": null,
      "metadata": {
        "colab": {
          "base_uri": "https://localhost:8080/"
        },
        "id": "clp3K9LOkyvM",
        "outputId": "42495023-7314-4cc5-d353-3043f4026f07"
      },
      "outputs": [
        {
          "output_type": "stream",
          "name": "stdout",
          "text": [
            "Mounted at /content/drive\n",
            "'Colab Notebooks'   data   NEW\t prop\n"
          ]
        }
      ],
      "source": [
        "from google.colab import drive\n",
        "\n",
        "drive.mount('/content/drive')\n",
        "\n",
        "!ls 'drive/My Drive'"
      ]
    },
    {
      "cell_type": "code",
      "execution_count": null,
      "metadata": {
        "colab": {
          "base_uri": "https://localhost:8080/"
        },
        "id": "Y9rGioDqcuCR",
        "outputId": "eef2f013-d5e7-48bf-8c7b-ba6c64879b31"
      },
      "outputs": [
        {
          "output_type": "stream",
          "name": "stdout",
          "text": [
            "Full dataset has 284807 rows and 31 columns\n"
          ]
        }
      ],
      "source": [
        "data = pd.read_csv('/content/drive/My Drive/data/creditcard.csv')\n",
        "print(\"Full dataset has\",data.shape[0], \"rows and\", data.shape[1], \"columns\")"
      ]
    },
    {
      "cell_type": "markdown",
      "metadata": {
        "id": "FQ1UhAM2bA8c"
      },
      "source": [
        "#relu , sigmoid"
      ]
    },
    {
      "cell_type": "code",
      "execution_count": null,
      "metadata": {
        "id": "kNQNfLTKaDmF"
      },
      "outputs": [],
      "source": [
        "def sigmoid(x):\n",
        "    return (1/(1+np.exp(-x)))"
      ]
    },
    {
      "cell_type": "code",
      "execution_count": null,
      "metadata": {
        "id": "11hEhtFKaVX8"
      },
      "outputs": [],
      "source": [
        "def relu(x):\n",
        "    return np.maximum(x, 0., None)"
      ]
    },
    {
      "cell_type": "code",
      "execution_count": null,
      "metadata": {
        "colab": {
          "base_uri": "https://localhost:8080/",
          "height": 307
        },
        "id": "0OQ2pO_0aL11",
        "outputId": "7d2ddab4-be12-47f0-aead-395c9c1f0ccf"
      },
      "outputs": [
        {
          "data": {
            "image/png": "[encoded data removed]",
            "text/plain": [
              "<Figure size 600x300 with 2 Axes>"
            ]
          },
          "metadata": {},
          "output_type": "display_data"
        }
      ],
      "source": [
        "fig,axes = plt.subplots(1,2,figsize=(6,3),dpi=100)\n",
        "x = np.linspace(-10,10,200)\n",
        "\n",
        "for ax in axes.flat:\n",
        "    ax.axhline(y=0, color='k')\n",
        "    ax.axvline(x=0, color='k')\n",
        "    #ax.grid(True)\n",
        "#axes[0].set_xlim([-10, 10])\n",
        "axes[0].plot(x, sigmoid(x), color ='#004c99')\n",
        "axes[0].patch.set_facecolor('white')\n",
        "axes[0].set_title('Sigmoid')\n",
        "axes[0].grid(True, color = '#A0A0A0')\n",
        "axes[0].patch.set_edgecolor('black')  \n",
        "\n",
        "axes[0].patch.set_linewidth('1.5') \n",
        "axes[1].plot(x, relu(x), color ='#004c99')\n",
        "axes[1].patch.set_facecolor('white')\n",
        "axes[1].grid(True, color = '#A0A0A0')\n",
        "#axes[1].set_xlim([-10, 10])\n",
        "axes[1].set_title('ReLU', color ='black')\n",
        "axes[1].patch.set_edgecolor('#000000')  \n",
        "\n",
        "axes[1].patch.set_linewidth('1.5')\n",
        "#plt.savefig('sig-vs-relu.png')\n",
        "plt.show()"
      ]
    },
    {
      "cell_type": "markdown",
      "metadata": {
        "id": "Z_wjwYwqIXod"
      },
      "source": [
        "# ***info***"
      ]
    },
    {
      "cell_type": "code",
      "execution_count": null,
      "metadata": {
        "colab": {
          "base_uri": "https://localhost:8080/"
        },
        "id": "Lb7SYlYvY5kq",
        "outputId": "57623dfc-dcbe-4eae-99d1-1ea1222f59d4"
      },
      "outputs": [
        {
          "name": "stdout",
          "output_type": "stream",
          "text": [
            "<class 'pandas.core.frame.DataFrame'>\n",
            "RangeIndex: 284807 entries, 0 to 284806\n",
            "Data columns (total 31 columns):\n",
            " #   Column  Non-Null Count   Dtype  \n",
            "---  ------  --------------   -----  \n",
            " 0   Time    284807 non-null  float64\n",
            " 1   V1      284807 non-null  float64\n",
            " 2   V2      284807 non-null  float64\n",
            " 3   V3      284807 non-null  float64\n",
            " 4   V4      284807 non-null  float64\n",
            " 5   V5      284807 non-null  float64\n",
            " 6   V6      284807 non-null  float64\n",
            " 7   V7      284807 non-null  float64\n",
            " 8   V8      284807 non-null  float64\n",
            " 9   V9      284807 non-null  float64\n",
            " 10  V10     284807 non-null  float64\n",
            " 11  V11     284807 non-null  float64\n",
            " 12  V12     284807 non-null  float64\n",
            " 13  V13     284807 non-null  float64\n",
            " 14  V14     284807 non-null  float64\n",
            " 15  V15     284807 non-null  float64\n",
            " 16  V16     284807 non-null  float64\n",
            " 17  V17     284807 non-null  float64\n",
            " 18  V18     284807 non-null  float64\n",
            " 19  V19     284807 non-null  float64\n",
            " 20  V20     284807 non-null  float64\n",
            " 21  V21     284807 non-null  float64\n",
            " 22  V22     284807 non-null  float64\n",
            " 23  V23     284807 non-null  float64\n",
            " 24  V24     284807 non-null  float64\n",
            " 25  V25     284807 non-null  float64\n",
            " 26  V26     284807 non-null  float64\n",
            " 27  V27     284807 non-null  float64\n",
            " 28  V28     284807 non-null  float64\n",
            " 29  Amount  284807 non-null  float64\n",
            " 30  Class   284807 non-null  int64  \n",
            "dtypes: float64(30), int64(1)\n",
            "memory usage: 67.4 MB\n"
          ]
        }
      ],
      "source": [
        "data.info()"
      ]
    },
    {
      "cell_type": "code",
      "execution_count": null,
      "metadata": {
        "colab": {
          "base_uri": "https://localhost:8080/"
        },
        "id": "q3zb5YmVZ3AW",
        "outputId": "2b68c350-2b73-454b-9bf9-096971dfa6d0"
      },
      "outputs": [
        {
          "name": "stdout",
          "output_type": "stream",
          "text": [
            "Index(['Time', 'V1', 'V2', 'V3', 'V4', 'V5', 'V6', 'V7', 'V8', 'V9', 'V10',\n",
            "       'V11', 'V12', 'V13', 'V14', 'V15', 'V16', 'V17', 'V18', 'V19', 'V20',\n",
            "       'V21', 'V22', 'V23', 'V24', 'V25', 'V26', 'V27', 'V28', 'Amount',\n",
            "       'Class'],\n",
            "      dtype='object')\n"
          ]
        }
      ],
      "source": [
        "# Start exploring the dataset\n",
        "print(data.columns)"
      ]
    },
    {
      "cell_type": "code",
      "execution_count": null,
      "metadata": {
        "colab": {
          "base_uri": "https://localhost:8080/"
        },
        "id": "0iH4ClnYaIc3",
        "outputId": "a3181bd7-f801-4e22-a498-a9149a600805"
      },
      "outputs": [
        {
          "name": "stdout",
          "output_type": "stream",
          "text": [
            "(28481, 31)\n",
            "                Time            V1            V2            V3            V4  \\\n",
            "count   28481.000000  28481.000000  28481.000000  28481.000000  28481.000000   \n",
            "mean    94705.035216     -0.001143     -0.018290      0.000795      0.000350   \n",
            "std     47584.727034      1.994661      1.709050      1.522313      1.420003   \n",
            "min         0.000000    -40.470142    -63.344698    -31.813586     -5.266509   \n",
            "25%     53924.000000     -0.908809     -0.610322     -0.892884     -0.847370   \n",
            "50%     84551.000000      0.031139      0.051775      0.178943     -0.017692   \n",
            "75%    139392.000000      1.320048      0.792685      1.035197      0.737312   \n",
            "max    172784.000000      2.411499     17.418649      4.069865     16.715537   \n",
            "\n",
            "                 V5            V6            V7            V8            V9  \\\n",
            "count  28481.000000  28481.000000  28481.000000  28481.000000  28481.000000   \n",
            "mean      -0.015666      0.003634     -0.008523     -0.003040      0.014536   \n",
            "std        1.395552      1.334985      1.237249      1.204102      1.098006   \n",
            "min      -42.147898    -19.996349    -22.291962    -33.785407     -8.739670   \n",
            "25%       -0.703986     -0.765807     -0.562033     -0.208445     -0.632488   \n",
            "50%       -0.068037     -0.269071      0.028378      0.024696     -0.037100   \n",
            "75%        0.603574      0.398839      0.559428      0.326057      0.621093   \n",
            "max       28.762671     22.529298     36.677268     19.587773      8.141560   \n",
            "\n",
            "       ...           V21           V22           V23           V24  \\\n",
            "count  ...  28481.000000  28481.000000  28481.000000  28481.000000   \n",
            "mean   ...      0.004740      0.006719     -0.000494     -0.002626   \n",
            "std    ...      0.744743      0.728209      0.645945      0.603968   \n",
            "min    ...    -16.640785    -10.933144    -30.269720     -2.752263   \n",
            "25%    ...     -0.224842     -0.535877     -0.163047     -0.360582   \n",
            "50%    ...     -0.029075      0.014337     -0.012678      0.038383   \n",
            "75%    ...      0.189068      0.533936      0.148065      0.434851   \n",
            "max    ...     22.588989      6.090514     15.626067      3.944520   \n",
            "\n",
            "                V25           V26           V27           V28        Amount  \\\n",
            "count  28481.000000  28481.000000  28481.000000  28481.000000  28481.000000   \n",
            "mean      -0.000917      0.004762     -0.001689     -0.004154     89.957884   \n",
            "std        0.520679      0.488171      0.418304      0.321646    270.894630   \n",
            "min       -7.025783     -2.534330     -8.260909     -9.617915      0.000000   \n",
            "25%       -0.319611     -0.328476     -0.071712     -0.053379      5.980000   \n",
            "50%        0.015231     -0.049750      0.000914      0.010753     22.350000   \n",
            "75%        0.351466      0.253580      0.090329      0.076267     78.930000   \n",
            "max        5.541598      3.118588     11.135740     15.373170  19656.530000   \n",
            "\n",
            "              Class  \n",
            "count  28481.000000  \n",
            "mean       0.001720  \n",
            "std        0.041443  \n",
            "min        0.000000  \n",
            "25%        0.000000  \n",
            "50%        0.000000  \n",
            "75%        0.000000  \n",
            "max        1.000000  \n",
            "\n",
            "[8 rows x 31 columns]\n"
          ]
        }
      ],
      "source": [
        "# Print the shape of the data\n",
        "data = data.sample(frac=0.1, random_state = 1)\n",
        "print(data.shape)\n",
        "print(data.describe())"
      ]
    },
    {
      "cell_type": "code",
      "execution_count": null,
      "metadata": {
        "colab": {
          "base_uri": "https://localhost:8080/",
          "height": 1000
        },
        "id": "YbGlu5mYaPBJ",
        "outputId": "124bc74e-ac35-47ab-be58-ed83521df46d"
      },
      "outputs": [
        {
          "data": {
            "image/png": "[encoded data removed]",
            "text/plain": [
              "<Figure size 1440x1440 with 36 Axes>"
            ]
          },
          "metadata": {},
          "output_type": "display_data"
        }
      ],
      "source": [
        "# Plot histograms of each parameter \n",
        "data.hist(figsize = (20, 20))\n",
        "plt.show()"
      ]
    },
    {
      "cell_type": "markdown",
      "metadata": {
        "id": "LG3ssvsh-dBI"
      },
      "source": [
        "# ***PreProcess***"
      ]
    },
    {
      "cell_type": "markdown",
      "metadata": {
        "id": "Th6-xHIrHOvZ"
      },
      "source": [
        "# ***Feature Extraction***"
      ]
    },
    {
      "cell_type": "code",
      "execution_count": null,
      "metadata": {
        "colab": {
          "base_uri": "https://localhost:8080/",
          "height": 407
        },
        "id": "txLY4DxJp5P0",
        "outputId": "41fddffc-ca66-4d35-8eca-26d594360a82"
      },
      "outputs": [
        {
          "output_type": "display_data",
          "data": {
            "text/plain": [
              "<Figure size 1080x432 with 2 Axes>"
            ],
            "image/png": "[encoded data removed]"
          },
          "metadata": {}
        }
      ],
      "source": [
        "f, (ax1, ax2) = plt.subplots(1, 2, figsize=(15, 6))\n",
        "ax1 = sns.distplot(data['Time'], ax=ax1, color='#008B8B')\n",
        "ax2 = sns.distplot(data['Amount'], ax=ax2, color='#DC143C')\n",
        "ax1.set_title('Distribution of Time', fontsize=13)\n",
        "ax2.set_title('Distribution of Amount', fontsize=13)\n",
        "ax1.patch.set_facecolor('white')\n",
        "ax1.grid(True, color = '#E0E0E0')\n",
        "ax1.patch.set_edgecolor('black')  \n",
        "ax1.patch.set_linewidth('1.5') \n",
        "ax2.patch.set_facecolor('white')\n",
        "ax2.grid(True, color = '#E0E0E0')\n",
        "ax2.patch.set_edgecolor('black')  \n",
        "ax2.patch.set_linewidth('1.5') "
      ]
    },
    {
      "cell_type": "code",
      "execution_count": null,
      "metadata": {
        "colab": {
          "base_uri": "https://localhost:8080/",
          "height": 299
        },
        "id": "UK8xRTB61S-v",
        "outputId": "717a96ed-7888-414e-88c0-58c4ba8d15ae"
      },
      "outputs": [
        {
          "output_type": "execute_result",
          "data": {
            "text/plain": [
              "         V1        V2        V3        V4        V5        V6        V7  \\\n",
              "0 -1.359807 -0.072781  2.536347  1.378155 -0.338321  0.462388  0.239599   \n",
              "1  1.191857  0.266151  0.166480  0.448154  0.060018 -0.082361 -0.078803   \n",
              "2 -1.358354 -1.340163  1.773209  0.379780 -0.503198  1.800499  0.791461   \n",
              "3 -0.966272 -0.185226  1.792993 -0.863291 -0.010309  1.247203  0.237609   \n",
              "4 -1.158233  0.877737  1.548718  0.403034 -0.407193  0.095921  0.592941   \n",
              "\n",
              "         V8        V9       V10  ...       V23       V24       V25       V26  \\\n",
              "0  0.098698  0.363787  0.090794  ... -0.110474  0.066928  0.128539 -0.189115   \n",
              "1  0.085102 -0.255425 -0.166974  ...  0.101288 -0.339846  0.167170  0.125895   \n",
              "2  0.247676 -1.514654  0.207643  ...  0.909412 -0.689281 -0.327642 -0.139097   \n",
              "3  0.377436 -1.387024 -0.054952  ... -0.190321 -1.175575  0.647376 -0.221929   \n",
              "4 -0.270533  0.817739  0.753074  ... -0.137458  0.141267 -0.206010  0.502292   \n",
              "\n",
              "        V27       V28  Amount  Class  hour  second  \n",
              "0  0.133558 -0.021053  149.62      0     0       0  \n",
              "1 -0.008983  0.014724    2.69      0     0       0  \n",
              "2 -0.055353 -0.059752  378.66      0     0       1  \n",
              "3  0.062723  0.061458  123.50      0     0       1  \n",
              "4  0.219422  0.215153   69.99      0     0       2  \n",
              "\n",
              "[5 rows x 32 columns]"
            ],
            "text/html": [
              "\n",
              "  <div id=\"df-1ac110bd-471b-42ef-8612-b3101213461a\">\n",
              "    <div class=\"colab-df-container\">\n",
              "      <div>\n",
              "<style scoped>\n",
              "    .dataframe tbody tr th:only-of-type {\n",
              "        vertical-align: middle;\n",
              "    }\n",
              "\n",
              "    .dataframe tbody tr th {\n",
              "        vertical-align: top;\n",
              "    }\n",
              "\n",
              "    .dataframe thead th {\n",
              "        text-align: right;\n",
              "    }\n",
              "</style>\n",
              "<table border=\"1\" class=\"dataframe\">\n",
              "  <thead>\n",
              "    <tr style=\"text-align: right;\">\n",
              "      <th></th>\n",
              "      <th>V1</th>\n",
              "      <th>V2</th>\n",
              "      <th>V3</th>\n",
              "      <th>V4</th>\n",
              "      <th>V5</th>\n",
              "      <th>V6</th>\n",
              "      <th>V7</th>\n",
              "      <th>V8</th>\n",
              "      <th>V9</th>\n",
              "      <th>V10</th>\n",
              "      <th>...</th>\n",
              "      <th>V23</th>\n",
              "      <th>V24</th>\n",
              "      <th>V25</th>\n",
              "      <th>V26</th>\n",
              "      <th>V27</th>\n",
              "      <th>V28</th>\n",
              "      <th>Amount</th>\n",
              "      <th>Class</th>\n",
              "      <th>hour</th>\n",
              "      <th>second</th>\n",
              "    </tr>\n",
              "  </thead>\n",
              "  <tbody>\n",
              "    <tr>\n",
              "      <th>0</th>\n",
              "      <td>-1.359807</td>\n",
              "      <td>-0.072781</td>\n",
              "      <td>2.536347</td>\n",
              "      <td>1.378155</td>\n",
              "      <td>-0.338321</td>\n",
              "      <td>0.462388</td>\n",
              "      <td>0.239599</td>\n",
              "      <td>0.098698</td>\n",
              "      <td>0.363787</td>\n",
              "      <td>0.090794</td>\n",
              "      <td>...</td>\n",
              "      <td>-0.110474</td>\n",
              "      <td>0.066928</td>\n",
              "      <td>0.128539</td>\n",
              "      <td>-0.189115</td>\n",
              "      <td>0.133558</td>\n",
              "      <td>-0.021053</td>\n",
              "      <td>149.62</td>\n",
              "      <td>0</td>\n",
              "      <td>0</td>\n",
              "      <td>0</td>\n",
              "    </tr>\n",
              "    <tr>\n",
              "      <th>1</th>\n",
              "      <td>1.191857</td>\n",
              "      <td>0.266151</td>\n",
              "      <td>0.166480</td>\n",
              "      <td>0.448154</td>\n",
              "      <td>0.060018</td>\n",
              "      <td>-0.082361</td>\n",
              "      <td>-0.078803</td>\n",
              "      <td>0.085102</td>\n",
              "      <td>-0.255425</td>\n",
              "      <td>-0.166974</td>\n",
              "      <td>...</td>\n",
              "      <td>0.101288</td>\n",
              "      <td>-0.339846</td>\n",
              "      <td>0.167170</td>\n",
              "      <td>0.125895</td>\n",
              "      <td>-0.008983</td>\n",
              "      <td>0.014724</td>\n",
              "      <td>2.69</td>\n",
              "      <td>0</td>\n",
              "      <td>0</td>\n",
              "      <td>0</td>\n",
              "    </tr>\n",
              "    <tr>\n",
              "      <th>2</th>\n",
              "      <td>-1.358354</td>\n",
              "      <td>-1.340163</td>\n",
              "      <td>1.773209</td>\n",
              "      <td>0.379780</td>\n",
              "      <td>-0.503198</td>\n",
              "      <td>1.800499</td>\n",
              "      <td>0.791461</td>\n",
              "      <td>0.247676</td>\n",
              "      <td>-1.514654</td>\n",
              "      <td>0.207643</td>\n",
              "      <td>...</td>\n",
              "      <td>0.909412</td>\n",
              "      <td>-0.689281</td>\n",
              "      <td>-0.327642</td>\n",
              "      <td>-0.139097</td>\n",
              "      <td>-0.055353</td>\n",
              "      <td>-0.059752</td>\n",
              "      <td>378.66</td>\n",
              "      <td>0</td>\n",
              "      <td>0</td>\n",
              "      <td>1</td>\n",
              "    </tr>\n",
              "    <tr>\n",
              "      <th>3</th>\n",
              "      <td>-0.966272</td>\n",
              "      <td>-0.185226</td>\n",
              "      <td>1.792993</td>\n",
              "      <td>-0.863291</td>\n",
              "      <td>-0.010309</td>\n",
              "      <td>1.247203</td>\n",
              "      <td>0.237609</td>\n",
              "      <td>0.377436</td>\n",
              "      <td>-1.387024</td>\n",
              "      <td>-0.054952</td>\n",
              "      <td>...</td>\n",
              "      <td>-0.190321</td>\n",
              "      <td>-1.175575</td>\n",
              "      <td>0.647376</td>\n",
              "      <td>-0.221929</td>\n",
              "      <td>0.062723</td>\n",
              "      <td>0.061458</td>\n",
              "      <td>123.50</td>\n",
              "      <td>0</td>\n",
              "      <td>0</td>\n",
              "      <td>1</td>\n",
              "    </tr>\n",
              "    <tr>\n",
              "      <th>4</th>\n",
              "      <td>-1.158233</td>\n",
              "      <td>0.877737</td>\n",
              "      <td>1.548718</td>\n",
              "      <td>0.403034</td>\n",
              "      <td>-0.407193</td>\n",
              "      <td>0.095921</td>\n",
              "      <td>0.592941</td>\n",
              "      <td>-0.270533</td>\n",
              "      <td>0.817739</td>\n",
              "      <td>0.753074</td>\n",
              "      <td>...</td>\n",
              "      <td>-0.137458</td>\n",
              "      <td>0.141267</td>\n",
              "      <td>-0.206010</td>\n",
              "      <td>0.502292</td>\n",
              "      <td>0.219422</td>\n",
              "      <td>0.215153</td>\n",
              "      <td>69.99</td>\n",
              "      <td>0</td>\n",
              "      <td>0</td>\n",
              "      <td>2</td>\n",
              "    </tr>\n",
              "  </tbody>\n",
              "</table>\n",
              "<p>5 rows × 32 columns</p>\n",
              "</div>\n",
              "      <button class=\"colab-df-convert\" onclick=\"convertToInteractive('df-1ac110bd-471b-42ef-8612-b3101213461a')\"\n",
              "              title=\"Convert this dataframe to an interactive table.\"\n",
              "              style=\"display:none;\">\n",
              "        \n",
              "  <svg xmlns=\"http://www.w3.org/2000/svg\" height=\"24px\"viewBox=\"0 0 24 24\"\n",
              "       width=\"24px\">\n",
              "    <path d=\"M0 0h24v24H0V0z\" fill=\"none\"/>\n",
              "    <path d=\"M18.56 5.44l.94 2.06.94-2.06 2.06-.94-2.06-.94-.94-2.06-.94 2.06-2.06.94zm-11 1L8.5 8.5l.94-2.06 2.06-.94-2.06-.94L8.5 2.5l-.94 2.06-2.06.94zm10 10l.94 2.06.94-2.06 2.06-.94-2.06-.94-.94-2.06-.94 2.06-2.06.94z\"/><path d=\"M17.41 7.96l-1.37-1.37c-.4-.4-.92-.59-1.43-.59-.52 0-1.04.2-1.43.59L10.3 9.45l-7.72 7.72c-.78.78-.78 2.05 0 2.83L4 21.41c.39.39.9.59 1.41.59.51 0 1.02-.2 1.41-.59l7.78-7.78 2.81-2.81c.8-.78.8-2.07 0-2.86zM5.41 20L4 18.59l7.72-7.72 1.47 1.35L5.41 20z\"/>\n",
              "  </svg>\n",
              "      </button>\n",
              "      \n",
              "  <style>\n",
              "    .colab-df-container {\n",
              "      display:flex;\n",
              "      flex-wrap:wrap;\n",
              "      gap: 12px;\n",
              "    }\n",
              "\n",
              "    .colab-df-convert {\n",
              "      background-color: #E8F0FE;\n",
              "      border: none;\n",
              "      border-radius: 50%;\n",
              "      cursor: pointer;\n",
              "      display: none;\n",
              "      fill: #1967D2;\n",
              "      height: 32px;\n",
              "      padding: 0 0 0 0;\n",
              "      width: 32px;\n",
              "    }\n",
              "\n",
              "    .colab-df-convert:hover {\n",
              "      background-color: #E2EBFA;\n",
              "      box-shadow: 0px 1px 2px rgba(60, 64, 67, 0.3), 0px 1px 3px 1px rgba(60, 64, 67, 0.15);\n",
              "      fill: #174EA6;\n",
              "    }\n",
              "\n",
              "    [theme=dark] .colab-df-convert {\n",
              "      background-color: #3B4455;\n",
              "      fill: #D2E3FC;\n",
              "    }\n",
              "\n",
              "    [theme=dark] .colab-df-convert:hover {\n",
              "      background-color: #434B5C;\n",
              "      box-shadow: 0px 1px 3px 1px rgba(0, 0, 0, 0.15);\n",
              "      filter: drop-shadow(0px 1px 2px rgba(0, 0, 0, 0.3));\n",
              "      fill: #FFFFFF;\n",
              "    }\n",
              "  </style>\n",
              "\n",
              "      <script>\n",
              "        const buttonEl =\n",
              "          document.querySelector('#df-1ac110bd-471b-42ef-8612-b3101213461a button.colab-df-convert');\n",
              "        buttonEl.style.display =\n",
              "          google.colab.kernel.accessAllowed ? 'block' : 'none';\n",
              "\n",
              "        async function convertToInteractive(key) {\n",
              "          const element = document.querySelector('#df-1ac110bd-471b-42ef-8612-b3101213461a');\n",
              "          const dataTable =\n",
              "            await google.colab.kernel.invokeFunction('convertToInteractive',\n",
              "                                                     [key], {});\n",
              "          if (!dataTable) return;\n",
              "\n",
              "          const docLinkHtml = 'Like what you see? Visit the ' +\n",
              "            '<a target=\"_blank\" href=https://colab.research.google.com/notebooks/data_table.ipynb>data table notebook</a>'\n",
              "            + ' to learn more about interactive tables.';\n",
              "          element.innerHTML = '';\n",
              "          dataTable['output_type'] = 'display_data';\n",
              "          await google.colab.output.renderOutput(dataTable, element);\n",
              "          const docLink = document.createElement('div');\n",
              "          docLink.innerHTML = docLinkHtml;\n",
              "          element.appendChild(docLink);\n",
              "        }\n",
              "      </script>\n",
              "    </div>\n",
              "  </div>\n",
              "  "
            ]
          },
          "metadata": {},
          "execution_count": 8
        }
      ],
      "source": [
        "#data['day']=(data['Time']//86400).astype('int')\n",
        "data['hour']=((data['Time']//3600)//2.).astype('int')\n",
        "#data['minute']=((data['Time']%3600.)//60).astype('int')\n",
        "#data['second']=((data['Time']%3600)%60).astype('int')\n",
        "data['second']=(data['Time']%3600).astype('int')\n",
        "data.drop('Time',axis=1,inplace=True)\n",
        "data.head(5)"
      ]
    },
    {
      "cell_type": "markdown",
      "metadata": {
        "id": "wN1KcHcHte6h"
      },
      "source": [
        "# ***Removing duplicate data***"
      ]
    },
    {
      "cell_type": "code",
      "execution_count": null,
      "metadata": {
        "colab": {
          "base_uri": "https://localhost:8080/"
        },
        "id": "Ld6leU74FeII",
        "outputId": "4c31cb70-7b29-4a7a-b7fc-f483933f3e9e"
      },
      "outputs": [
        {
          "output_type": "stream",
          "name": "stdout",
          "text": [
            "Duplicate vs Non duplicate counts :\n",
            "False    283726\n",
            "True       1081\n",
            "dtype: int64\n"
          ]
        }
      ],
      "source": [
        "print(\"Duplicate vs Non duplicate counts :\")\n",
        "print(data.duplicated().value_counts())"
      ]
    },
    {
      "cell_type": "code",
      "execution_count": null,
      "metadata": {
        "id": "p66pZs8nFy7g"
      },
      "outputs": [],
      "source": [
        "# Removing the Duplicate Values\n",
        "data.drop_duplicates(inplace = True)"
      ]
    },
    {
      "cell_type": "code",
      "execution_count": null,
      "metadata": {
        "colab": {
          "base_uri": "https://localhost:8080/"
        },
        "id": "9C102275a5n0",
        "outputId": "07cc8ed3-ccf7-4aa5-9faf-8eceb63f11e8"
      },
      "outputs": [
        {
          "output_type": "stream",
          "name": "stdout",
          "text": [
            "False    283726\n",
            "dtype: int64\n"
          ]
        }
      ],
      "source": [
        "# Check for duplicate data if they exist \n",
        "print(data.duplicated().value_counts())\n",
        "\n",
        "# Reset the index\n",
        "data.reset_index(drop = True , inplace = True)"
      ]
    },
    {
      "cell_type": "markdown",
      "metadata": {
        "id": "CWIYpNQJG0pg"
      },
      "source": [
        "# ***count Fraud and Valid***"
      ]
    },
    {
      "cell_type": "code",
      "execution_count": null,
      "metadata": {
        "colab": {
          "base_uri": "https://localhost:8080/"
        },
        "id": "NcpKUF8tGP6Z",
        "outputId": "85e935ba-3221-49e8-d35d-9bf98e75edda"
      },
      "outputs": [
        {
          "output_type": "stream",
          "name": "stdout",
          "text": [
            "0    283253\n",
            "1       473\n",
            "Name: Class, dtype: int64\n",
            "\n",
            "\n",
            "0    0.998333\n",
            "1    0.001667\n",
            "Name: Class, dtype: float64\n"
          ]
        }
      ],
      "source": [
        "print(data['Class'].value_counts())\n",
        "print('\\n')\n",
        "print(data['Class'].value_counts(normalize=True))"
      ]
    },
    {
      "cell_type": "code",
      "execution_count": null,
      "metadata": {
        "colab": {
          "base_uri": "https://localhost:8080/"
        },
        "id": "BWdOgvHkW9qN",
        "outputId": "b1435bc5-a3ee-425c-cb2a-5b1adbf00388"
      },
      "outputs": [
        {
          "output_type": "stream",
          "name": "stdout",
          "text": [
            "Fradulent transactions (Label 1)     : 0.0017 % (473)\n",
            "Genioun transactions (Label 0) : 0.9983 % (283253)\n"
          ]
        }
      ],
      "source": [
        "classes=data['Class'].value_counts()\n",
        "Valid=round(classes[0]/data['Class'].count(), 4)\n",
        "Fraud=round(classes[1]/data['Class'].count(), 4)\n",
        "\n",
        "print('Fradulent transactions (Label 1)     : {0} % ({1})'.format(Fraud, classes[1]))\n",
        "print('Genioun transactions (Label 0) : {0} % ({1})'.format(Valid, classes[0]))"
      ]
    },
    {
      "cell_type": "code",
      "execution_count": null,
      "metadata": {
        "colab": {
          "base_uri": "https://localhost:8080/",
          "height": 300
        },
        "id": "EADOB7wg7-nI",
        "outputId": "34ad3f0b-6550-46ff-90f0-8dad542501da"
      },
      "outputs": [
        {
          "output_type": "execute_result",
          "data": {
            "text/plain": [
              "[Text(0, 0, '0'), Text(0, 0, '1')]"
            ]
          },
          "metadata": {},
          "execution_count": 47
        },
        {
          "output_type": "display_data",
          "data": {
            "text/plain": [
              "<Figure size 576x288 with 1 Axes>"
            ],
            "image/png": "[encoded data removed]"
          },
          "metadata": {}
        }
      ],
      "source": [
        "# Create plots for the number and percentage of fraudulent vs Valid transcations\n",
        "plt.figure(figsize=(8,4))\n",
        "plt.subplot(121)\n",
        "#colors = ['#008080','crimson']\n",
        "#colors = ['crimson','#008080']\n",
        "colors = ['#008080','#CC0000']\n",
        "Class = data[\"Class\"]\n",
        "total = len(Class)*1.\n",
        "ax=sns.countplot(x=\"Class\", data=data, palette=colors)\n",
        "\n",
        "for p in ax.patches:\n",
        "  ax.annotate('{:.2f}%'.format(100*p.get_height()/total), (p.get_x()+0.1, p.get_height()+5))\n",
        "  ax.patch.set_facecolor('white')\n",
        "  ax.yaxis.grid(True, color = '#C0C0C0') \n",
        "  ax.patch.set_edgecolor('#A0A0A0')  \n",
        "  ax.patch.set_linewidth('1.5')\n",
        "#put 11 ticks (therefore 10 steps), from 0 to the total number of rows in the dataframe\n",
        "ax.yaxis.set_ticks(np.linspace(0, total, 11))\n",
        "#adjust the ticklabel to the desired format, without changing the position of the ticks.\n",
        "ax.set_yticklabels(map('{:.0f}%'.format, 100*ax.yaxis.get_majorticklocs()/total))\n",
        "ax.set_xticklabels(ax.get_xticklabels(), ha=\"right\")\n",
        "\n",
        "\n"
      ]
    },
    {
      "cell_type": "code",
      "execution_count": null,
      "metadata": {
        "colab": {
          "base_uri": "https://localhost:8080/",
          "height": 285
        },
        "id": "2-kQPNOt-gtk",
        "outputId": "944607f7-5237-454d-e1de-13a7440deece"
      },
      "outputs": [
        {
          "output_type": "display_data",
          "data": {
            "text/plain": [
              "<Figure size 720x360 with 1 Axes>"
            ],
            "image/png": "[encoded data removed]"
          },
          "metadata": {}
        }
      ],
      "source": [
        "# Create plots for the number and percentage of fraudulent vs Valid transcations\n",
        "plt.figure(figsize=(10,5))\n",
        "\n",
        "plt.subplot(122)\n",
        "#plt.title('Percentage of each Class', fontsize=14)\n",
        "plt.pie(x=[Valid,Fraud],labels=['Valid','Fraud'],\n",
        "        autopct='%.2f', colors=['#008080','crimson'], startangle=30, shadow=True)\n",
        "plt.legend(loc='best')\n",
        "\n",
        "plt.show()"
      ]
    },
    {
      "cell_type": "code",
      "execution_count": null,
      "metadata": {
        "colab": {
          "base_uri": "https://localhost:8080/"
        },
        "id": "UQSOeUNXHmc0",
        "outputId": "53adae11-05bd-462f-e814-eb42bcaa0213"
      },
      "outputs": [
        {
          "name": "stdout",
          "output_type": "stream",
          "text": [
            "Estimate: 598.844\n"
          ]
        }
      ],
      "source": [
        "# estimate a value for the scale_pos_weight\n",
        "from sklearn.datasets import make_classification\n",
        "from collections import Counter\n",
        "counter = Counter(y)\n",
        "estimate = counter[0] / counter[1]\n",
        "print('Estimate: %.3f' % estimate)"
      ]
    },
    {
      "cell_type": "markdown",
      "metadata": {
        "id": "NXj3NEalHIla"
      },
      "source": [
        "# X,Y"
      ]
    },
    {
      "cell_type": "code",
      "execution_count": null,
      "metadata": {
        "id": "Fw22AJHcFzV1"
      },
      "outputs": [],
      "source": [
        "df = pd.DataFrame(data, columns=['V10' ,'V11' ,'V12' ,'V14' ,'V16' ,'V17', 'Class'])"
      ]
    },
    {
      "cell_type": "code",
      "execution_count": null,
      "metadata": {
        "id": "PA1d7HVRF0Dt"
      },
      "outputs": [],
      "source": [
        "X = df.drop('Class', axis=1)\n",
        "y = df['Class']"
      ]
    },
    {
      "cell_type": "markdown",
      "metadata": {
        "id": "A1yyBkafEfog"
      },
      "source": [
        "# ***Feature Selection***"
      ]
    },
    {
      "cell_type": "code",
      "execution_count": null,
      "metadata": {
        "id": "cO2bCY_CEfoi"
      },
      "outputs": [],
      "source": [
        "X = data.drop('Class', axis=1)\n",
        "y = data['Class']"
      ]
    },
    {
      "cell_type": "code",
      "execution_count": null,
      "metadata": {
        "colab": {
          "base_uri": "https://localhost:8080/",
          "height": 878
        },
        "id": "O3OfIjcZonjh",
        "outputId": "03d1a47a-885a-4556-c9d0-6a17267dce4a"
      },
      "outputs": [
        {
          "output_type": "stream",
          "name": "stdout",
          "text": [
            "Feature 0 : 0.0019\n",
            "Feature 1 : 0.0031\n",
            "Feature 2 : 0.0047\n",
            "Feature 3 : 0.0048\n",
            "Feature 4 : 0.0022\n",
            "Feature 5 : 0.002\n",
            "Feature 6 : 0.0037\n",
            "Feature 7 : 0.0015\n",
            "Feature 8 : 0.0041\n",
            "Feature 9 : 0.0074\n",
            "Feature 10 : 0.0066\n",
            "Feature 11 : 0.0074\n",
            "Feature 12 : 0.0002\n",
            "Feature 13 : 0.0079\n",
            "Feature 14 : 0.0\n",
            "Feature 15 : 0.0058\n",
            "Feature 16 : 0.0079\n",
            "Feature 17 : 0.004\n",
            "Feature 18 : 0.001\n",
            "Feature 19 : 0.0009\n",
            "Feature 20 : 0.0022\n",
            "Feature 21 : 0.0002\n",
            "Feature 22 : 0.0004\n",
            "Feature 23 : 0.0004\n",
            "Feature 24 : 0.0002\n",
            "Feature 25 : 0.0001\n",
            "Feature 26 : 0.0022\n",
            "Feature 27 : 0.0016\n",
            "Feature 28 : 0.0014\n",
            "Feature 29 : 0.0033\n",
            "Feature 30 : 0.0\n"
          ]
        },
        {
          "output_type": "display_data",
          "data": {
            "text/plain": [
              "<Figure size 432x288 with 1 Axes>"
            ],
            "image/png": "[encoded data removed]"
          },
          "metadata": {}
        }
      ],
      "source": [
        "X_train, X_test, y_train, y_test = train_test_split(X, y, random_state=42, test_size=.20)\n",
        "rob_scaler = RobustScaler()\n",
        "X_test = rob_scaler.fit_transform(X_test)\n",
        "X_test = rob_scaler.fit_transform(X_test)\n",
        "\n",
        "from sklearn.feature_selection import SelectKBest,f_classif,mutual_info_classif\n",
        "infogain_classif = SelectKBest(score_func=mutual_info_classif, k=6)\n",
        "infogain_classif.fit(X_train, y_train)\n",
        "#colors = ['crimson','#008080']\n",
        "# what are scores for the features\n",
        "for i in range(len(infogain_classif.scores_)):\n",
        "    print(f'Feature {i} : {round(infogain_classif.scores_[i],4)}')\n",
        "\n",
        "# plot the scores\n",
        "plt.bar([X_train.columns[i] for i in range(len(infogain_classif.scores_))], infogain_classif.scores_ ,color=['green'])\n",
        "plt.xticks(rotation=90)\n",
        "plt.rcParams[\"figure.figsize\"] = (8,7)\n",
        "#plt.title('Feature Selection', fontsize=14)\n",
        "ax = plt.gca()\n",
        "ax.patch.set_facecolor('white')\n",
        "ax.yaxis.grid(True, color = '#C0C0C0') \n",
        "ax.patch.set_edgecolor('#A0A0A0')  \n",
        "ax.patch.set_linewidth('1.5')\n",
        "plt.xlabel('Features',fontsize=14)\n",
        "plt.ylabel('Information Gain',fontsize=14)\n",
        "plt.show()"
      ]
    },
    {
      "cell_type": "code",
      "execution_count": null,
      "metadata": {
        "colab": {
          "base_uri": "https://localhost:8080/"
        },
        "id": "T4G2zsFaEfon",
        "outputId": "27838e04-47f7-40c2-dd00-113a56fe514b"
      },
      "outputs": [
        {
          "name": "stdout",
          "output_type": "stream",
          "text": [
            "Best Features : ['V10' 'V11' 'V12' 'V14' 'V16' 'V17']\n",
            "Bad Features : ['V1' 'V2' 'V3' 'V4' 'V5' 'V6' 'V7' 'V8' 'V9' 'V13' 'V15' 'V18' 'V19'\n",
            " 'V20' 'V21' 'V22' 'V23' 'V24' 'V25' 'V26' 'V27' 'V28' 'Amount' 'hour'\n",
            " 'minute' 'second']\n"
          ]
        }
      ],
      "source": [
        "#set of best features set\n",
        "mask=infogain_classif.get_support()\n",
        "not_mask=np.logical_not(mask)\n",
        "\n",
        "all_features=np.array(list(X))\n",
        "\n",
        "best_features=all_features[mask]\n",
        "bad_features=all_features[~mask]#not_mask\n",
        "print('Best Features :',best_features)\n",
        "print('Bad Features :',bad_features)"
      ]
    },
    {
      "cell_type": "code",
      "execution_count": null,
      "metadata": {
        "id": "D7xS9l1xEfop"
      },
      "outputs": [],
      "source": [
        "df = pd.DataFrame(data, columns=['V10' ,'V11' ,'V12' ,'V14' ,'V16' ,'V17', 'Class'])"
      ]
    },
    {
      "cell_type": "code",
      "execution_count": null,
      "metadata": {
        "id": "HeeQezEBEfoq"
      },
      "outputs": [],
      "source": [
        "X = df.drop('Class', axis=1)\n",
        "y = df['Class']"
      ]
    },
    {
      "cell_type": "markdown",
      "metadata": {
        "id": "rm6JC2uMTyfm"
      },
      "source": [
        "# ***x,y train, test df***"
      ]
    },
    {
      "cell_type": "code",
      "execution_count": null,
      "metadata": {
        "colab": {
          "base_uri": "https://localhost:8080/"
        },
        "id": "XecohwkbTyfn",
        "outputId": "d7aa4150-2151-4d3e-8830-d806acb84b56"
      },
      "outputs": [
        {
          "name": "stdout",
          "output_type": "stream",
          "text": [
            "Train Shape: (226980, 7) \n",
            "Test Shape: (56746, 7)\n"
          ]
        }
      ],
      "source": [
        "train, test = train_test_split(df, test_size = 0.2, random_state=42)\n",
        "#train, test = train_test_split(df, test_size = 0.2, shuffle=True, stratify=df['Class'])\n",
        "print(\"Train Shape: {} \\nTest Shape: {}\".format(train.shape, test.shape))"
      ]
    },
    {
      "cell_type": "markdown",
      "metadata": {
        "id": "9oYnHqw8Tyfo"
      },
      "source": [
        "##x,y train"
      ]
    },
    {
      "cell_type": "code",
      "execution_count": null,
      "metadata": {
        "colab": {
          "base_uri": "https://localhost:8080/"
        },
        "id": "0wnoNCyuTyfp",
        "outputId": "87006062-f771-4f5c-96e3-c71073e240a8"
      },
      "outputs": [
        {
          "name": "stdout",
          "output_type": "stream",
          "text": [
            "before sampling: \n",
            "X_train  shape: (226980, 6) \n",
            "y_train shape: (226980,)\n"
          ]
        }
      ],
      "source": [
        "X_train  = train.drop('Class', axis=1).values\n",
        "y_train  = train['Class'].values\n",
        "print('before sampling: \\nX_train  shape: {} \\ny_train shape: {}'.format(X_train.shape, y_train.shape))"
      ]
    },
    {
      "cell_type": "markdown",
      "metadata": {
        "id": "wCx1rFjPDJmB"
      },
      "source": [
        "##X, y test"
      ]
    },
    {
      "cell_type": "code",
      "execution_count": null,
      "metadata": {
        "colab": {
          "base_uri": "https://localhost:8080/"
        },
        "id": "AzOZTgZYTyfr",
        "outputId": "5acaf7c5-19e6-4656-812d-ac174176eef1"
      },
      "outputs": [
        {
          "name": "stdout",
          "output_type": "stream",
          "text": [
            "\n",
            "X_test  shape: (56746, 6) \n",
            "y_test shape: (56746,)\n"
          ]
        }
      ],
      "source": [
        "X_test  = test.drop('Class', axis=1)\n",
        "y_test  = test['Class']\n",
        "print('\\nX_test  shape: {} \\ny_test shape: {}'.format(X_test.shape, y_test.shape))"
      ]
    },
    {
      "cell_type": "code",
      "execution_count": null,
      "metadata": {
        "id": "czFVkF98Tyfs"
      },
      "outputs": [],
      "source": [
        "X_test  = test\n",
        "y_test  = test['Class']"
      ]
    },
    {
      "cell_type": "code",
      "execution_count": null,
      "metadata": {
        "id": "vKPqWNDxTyft"
      },
      "outputs": [],
      "source": [
        "X_test_Fraud = X_test[X_test.Class==1]\n",
        "X_test_Valid = X_test[X_test.Class==0]\n",
        "y_test_Fraud = y_test[X_test.Class==1]\n",
        "y_test_Valid = y_test[X_test.Class==0] \n",
        "\n",
        "X_test = X_test.drop('Class', axis=1).values\n",
        "y_test = y_test.values  \n",
        "\n",
        "X_test_Valid =X_test_Valid.drop('Class', axis=1).values\n",
        "y_test_Valid = y_test_Valid.values\n",
        "\n",
        "X_test_Fraud = X_test_Fraud.drop('Class', axis=1).values\n",
        "y_test_Fraud = y_test_Fraud.values  "
      ]
    },
    {
      "cell_type": "code",
      "execution_count": null,
      "metadata": {
        "colab": {
          "base_uri": "https://localhost:8080/"
        },
        "id": "VLk-plmETyft",
        "outputId": "fce69c29-8c5f-41b5-e14f-0ddbeff7a4d9"
      },
      "outputs": [
        {
          "name": "stdout",
          "output_type": "stream",
          "text": [
            "X_test  shape: (56746, 6) \n",
            "y_test shape: (56746,)\n",
            "X_test_Fraud  shape: (90, 6) \n",
            "y_test_Fraud shape: (90,)\n",
            "X_test_Valid  shape: (56656, 6) \n",
            "y_test_Valid shape: (56656,)\n"
          ]
        }
      ],
      "source": [
        "print('X_test  shape: {} \\ny_test shape: {}'.format(X_test.shape, y_test.shape))\n",
        "print('X_test_Fraud  shape: {} \\ny_test_Fraud shape: {}'.format(X_test_Fraud.shape, y_test_Fraud.shape))\n",
        "print('X_test_Valid  shape: {} \\ny_test_Valid shape: {}'.format(X_test_Valid.shape, y_test_Valid.shape))"
      ]
    },
    {
      "cell_type": "markdown",
      "metadata": {
        "id": "MQjSODMi_K_v"
      },
      "source": [
        "# ***Bayesian Optimization***"
      ]
    },
    {
      "cell_type": "markdown",
      "metadata": {
        "id": "SjcjNg6I_YxJ"
      },
      "source": [
        "##*LGBM*"
      ]
    },
    {
      "cell_type": "code",
      "execution_count": null,
      "metadata": {
        "colab": {
          "base_uri": "https://localhost:8080/"
        },
        "id": "umayBnEwgxr1",
        "outputId": "1f02ac76-e1a5-4005-b390-7576edb2dbc2"
      },
      "outputs": [
        {
          "name": "stdout",
          "output_type": "stream",
          "text": [
            "|   iter    |  target   | learni... | max_depth | num_le... |\n",
            "-------------------------------------------------------------\n",
            "| \u001b[0m 1       \u001b[0m | \u001b[0m-0.0385  \u001b[0m | \u001b[0m 0.05394 \u001b[0m | \u001b[0m 5.859   \u001b[0m | \u001b[0m 85.04   \u001b[0m |\n",
            "| \u001b[0m 2       \u001b[0m | \u001b[0m-0.1525  \u001b[0m | \u001b[0m 0.02298 \u001b[0m | \u001b[0m 3.542   \u001b[0m | \u001b[0m 121.4   \u001b[0m |\n",
            "| \u001b[95m 3       \u001b[0m | \u001b[95m-0.0105  \u001b[0m | \u001b[95m 0.1213  \u001b[0m | \u001b[95m 6.235   \u001b[0m | \u001b[95m 94.25   \u001b[0m |\n",
            "| \u001b[95m 4       \u001b[0m | \u001b[95m-0.005794\u001b[0m | \u001b[95m 0.18    \u001b[0m | \u001b[95m-0.6813  \u001b[0m | \u001b[95m 45.42   \u001b[0m |\n",
            "| \u001b[95m 5       \u001b[0m | \u001b[95m-0.005467\u001b[0m | \u001b[95m 0.109   \u001b[0m | \u001b[95m-0.5032  \u001b[0m | \u001b[95m 232.2   \u001b[0m |\n",
            "| \u001b[0m 6       \u001b[0m | \u001b[0m-0.0202  \u001b[0m | \u001b[0m 0.03453 \u001b[0m | \u001b[0m-0.3525  \u001b[0m | \u001b[0m 230.8   \u001b[0m |\n",
            "| \u001b[0m 7       \u001b[0m | \u001b[0m-0.007284\u001b[0m | \u001b[0m 0.2     \u001b[0m | \u001b[0m-1.0     \u001b[0m | \u001b[0m 236.9   \u001b[0m |\n",
            "| \u001b[0m 8       \u001b[0m | \u001b[0m-0.01551 \u001b[0m | \u001b[0m 0.2     \u001b[0m | \u001b[0m 3.962   \u001b[0m | \u001b[0m 235.1   \u001b[0m |\n",
            "| \u001b[0m 9       \u001b[0m | \u001b[0m-0.007212\u001b[0m | \u001b[0m 0.08437 \u001b[0m | \u001b[0m-0.6308  \u001b[0m | \u001b[0m 38.17   \u001b[0m |\n",
            "| \u001b[0m 10      \u001b[0m | \u001b[0m-0.006042\u001b[0m | \u001b[0m 0.1781  \u001b[0m | \u001b[0m 6.229   \u001b[0m | \u001b[0m 42.25   \u001b[0m |\n",
            "| \u001b[0m 11      \u001b[0m | \u001b[0m-0.008241\u001b[0m | \u001b[0m 0.1386  \u001b[0m | \u001b[0m 6.198   \u001b[0m | \u001b[0m 51.09   \u001b[0m |\n",
            "| \u001b[95m 12      \u001b[0m | \u001b[95m-0.005409\u001b[0m | \u001b[95m 0.182   \u001b[0m | \u001b[95m 7.661   \u001b[0m | \u001b[95m 32.61   \u001b[0m |\n",
            "| \u001b[0m 13      \u001b[0m | \u001b[0m-0.006229\u001b[0m | \u001b[0m 0.1313  \u001b[0m | \u001b[0m 0.1856  \u001b[0m | \u001b[0m 27.54   \u001b[0m |\n",
            "=============================================================\n",
            "It takes 6.197216959794362 minutes\n",
            "{'learning_rate': 0.18195577305404498, 'max_depth': 8, 'num_leaves': 33}\n"
          ]
        }
      ],
      "source": [
        "# create purpose function\n",
        "def lgbm_cv(learning_rate, max_depth, num_leaves):\n",
        "    model = LGBMClassifier(learning_rate = learning_rate,\n",
        "                                num_leaves = int(round(num_leaves)),\n",
        "                                max_depth = int(round(max_depth)), \n",
        "                                class_weight = 'balanced'\n",
        "                               )\n",
        "    \n",
        "    cv = StratifiedKFold(n_splits=5)\n",
        "    scores = cross_validate(model, X_train, y_train, cv=cv, scoring= 'neg_log_loss')\n",
        "    return np.mean(scores['test_score'])\n",
        "\n",
        "# Interval to be explored for input values\n",
        "params = {'learning_rate': (0.001, 0.2),\n",
        "           'max_depth': (-1, 8),\n",
        "           'num_leaves': (2, 250)\n",
        "          }\n",
        "\n",
        "from bayes_opt import BayesianOptimization\n",
        "lgbmBO = BayesianOptimization(lgbm_cv, params)\n",
        "\n",
        "start = time.time()\n",
        "lgbmBO.maximize(init_points=5, n_iter = 8, acq='ei')\n",
        "\n",
        "print('It takes %s minutes' % ((time.time() - start)/60))\n",
        "params_lgbm = lgbmBO.max['params']\n",
        "params_lgbm['max_depth'] = round(params_lgbm['max_depth'])\n",
        "params_lgbm['num_leaves'] = round(params_lgbm['num_leaves'])\n",
        "print(params_lgbm)"
      ]
    },
    {
      "cell_type": "markdown",
      "metadata": {
        "id": "41TUGwtt_noC"
      },
      "source": [
        "##*XGBoost*"
      ]
    },
    {
      "cell_type": "code",
      "execution_count": null,
      "metadata": {
        "colab": {
          "base_uri": "https://localhost:8080/"
        },
        "id": "absTm8quCuwM",
        "outputId": "5dc7e4d9-370c-4229-ba54-0a82b1b4a4e6"
      },
      "outputs": [
        {
          "name": "stdout",
          "output_type": "stream",
          "text": [
            "Estimate: 598.844\n"
          ]
        }
      ],
      "source": [
        "# estimate a value for the scale_pos_weight xgboost hyperparameter\n",
        "from sklearn.datasets import make_classification\n",
        "from collections import Counter\n",
        "counter = Counter(y)\n",
        "# estimate scale_pos_weight value\n",
        "estimate = counter[0] / counter[1]\n",
        "print('Estimate: %.3f' % estimate)"
      ]
    },
    {
      "cell_type": "code",
      "execution_count": null,
      "metadata": {
        "colab": {
          "base_uri": "https://localhost:8080/"
        },
        "id": "RorlQTAzGmNa",
        "outputId": "efb0af0d-25e5-4ad9-f684-51d3fea8cd3f"
      },
      "outputs": [
        {
          "name": "stdout",
          "output_type": "stream",
          "text": [
            "|   iter    |  target   | learni... | max_depth | n_esti... |\n",
            "-------------------------------------------------------------\n",
            "| \u001b[0m 1       \u001b[0m | \u001b[0m-0.008813\u001b[0m | \u001b[0m 0.1878  \u001b[0m | \u001b[0m 5.997   \u001b[0m | \u001b[0m 57.67   \u001b[0m |\n",
            "| \u001b[95m 2       \u001b[0m | \u001b[95m-0.003529\u001b[0m | \u001b[95m 0.1109  \u001b[0m | \u001b[95m 9.003   \u001b[0m | \u001b[95m 98.13   \u001b[0m |\n",
            "| \u001b[0m 3       \u001b[0m | \u001b[0m-0.0102  \u001b[0m | \u001b[0m 0.1625  \u001b[0m | \u001b[0m 5.583   \u001b[0m | \u001b[0m 60.01   \u001b[0m |\n",
            "| \u001b[0m 4       \u001b[0m | \u001b[0m-0.02645 \u001b[0m | \u001b[0m 0.04697 \u001b[0m | \u001b[0m 8.089   \u001b[0m | \u001b[0m 76.05   \u001b[0m |\n",
            "| \u001b[0m 5       \u001b[0m | \u001b[0m-0.008916\u001b[0m | \u001b[0m 0.1774  \u001b[0m | \u001b[0m 5.78    \u001b[0m | \u001b[0m 59.02   \u001b[0m |\n",
            "| \u001b[0m 6       \u001b[0m | \u001b[0m-0.005466\u001b[0m | \u001b[0m 0.2     \u001b[0m | \u001b[0m 4.978   \u001b[0m | \u001b[0m 100.0   \u001b[0m |\n",
            "| \u001b[0m 7       \u001b[0m | \u001b[0m-0.6169  \u001b[0m | \u001b[0m 0.001   \u001b[0m | \u001b[0m 6.783   \u001b[0m | \u001b[0m 94.32   \u001b[0m |\n",
            "| \u001b[0m 8       \u001b[0m | \u001b[0m-0.003544\u001b[0m | \u001b[0m 0.1422  \u001b[0m | \u001b[0m 9.674   \u001b[0m | \u001b[0m 99.97   \u001b[0m |\n",
            "| \u001b[0m 9       \u001b[0m | \u001b[0m-0.04344 \u001b[0m | \u001b[0m 0.04445 \u001b[0m | \u001b[0m 9.847   \u001b[0m | \u001b[0m 59.45   \u001b[0m |\n",
            "| \u001b[0m 10      \u001b[0m | \u001b[0m-0.01953 \u001b[0m | \u001b[0m 0.04035 \u001b[0m | \u001b[0m 7.565   \u001b[0m | \u001b[0m 99.98   \u001b[0m |\n",
            "| \u001b[0m 11      \u001b[0m | \u001b[0m-0.1758  \u001b[0m | \u001b[0m 0.03584 \u001b[0m | \u001b[0m 3.004   \u001b[0m | \u001b[0m 54.28   \u001b[0m |\n",
            "| \u001b[0m 12      \u001b[0m | \u001b[0m-0.004179\u001b[0m | \u001b[0m 0.2     \u001b[0m | \u001b[0m 6.86    \u001b[0m | \u001b[0m 64.88   \u001b[0m |\n",
            "| \u001b[0m 13      \u001b[0m | \u001b[0m-0.09507 \u001b[0m | \u001b[0m 0.07954 \u001b[0m | \u001b[0m 3.02    \u001b[0m | \u001b[0m 64.64   \u001b[0m |\n",
            "=============================================================\n",
            "It takes 31.05252418915431 minutes\n",
            "{'learning_rate': 0.1109, 'max_depth': 9, 'n_estimators': 98}\n"
          ]
        }
      ],
      "source": [
        "##neg log loss\n",
        "# create purpose function\n",
        "def xgb_cv(learning_rate, max_depth, n_estimators):\n",
        "    model = XGBClassifier(learning_rate = learning_rate,\n",
        "                                max_depth = int(round(max_depth)),\n",
        "                                n_estimators = int(round(n_estimators)),\n",
        "                                scale_pos_weight = 592\n",
        "                          )\n",
        "    cv = StratifiedKFold(n_splits=5)\n",
        "    scores = cross_validate(model, X_train, y_train, cv=cv, scoring='neg_log_loss')\n",
        "    return np.mean(scores['test_score'])\n",
        "\n",
        "# Interval to be explored for input values\n",
        "params={'learning_rate': (0.001, 0.2),\n",
        "           'max_depth': (3, 10),\n",
        "           'n_estimators': (50, 100)\n",
        "          }\n",
        "\n",
        "from bayes_opt import BayesianOptimization\n",
        "xgbBO = BayesianOptimization(xgb_cv, params)\n",
        "\n",
        "start = time.time()\n",
        "xgbBO.maximize(init_points=5, n_iter = 8, acq='ei')\n",
        "\n",
        "print('It takes %s minutes' % ((time.time() - start)/60))\n",
        "\n",
        "params_xgb = xgbBO.max['params']\n",
        "params_xgb['max_depth'] = round(params_xgb['max_depth'])\n",
        "params_xgb['n_estimators'] = round(params_xgb['n_estimators'])\n",
        "params_xgb['learning_rate'] = round((params_xgb['learning_rate']),4)\n",
        "print(params_xgb)"
      ]
    },
    {
      "cell_type": "markdown",
      "metadata": {
        "id": "36IPzxxBBb37"
      },
      "source": [
        "##*CatBoost*"
      ]
    },
    {
      "cell_type": "code",
      "execution_count": null,
      "metadata": {
        "id": "vo_4OCt-6ih9"
      },
      "outputs": [],
      "source": [
        "from catboost import CatBoostClassifier\n",
        "import random\n",
        "import numpy as np\n",
        "cbc = CatBoostClassifier()\n",
        "cbc.fit(X_train, y_train, verbose=False)\n",
        "cbc.get_all_params()"
      ]
    },
    {
      "cell_type": "code",
      "execution_count": null,
      "metadata": {
        "colab": {
          "base_uri": "https://localhost:8080/"
        },
        "id": "HaKN_vx5Bb38",
        "outputId": "ee570390-5220-435c-d0fa-51f57ae1ca19"
      },
      "outputs": [
        {
          "name": "stdout",
          "output_type": "stream",
          "text": [
            "|   iter    |  target   |   depth   | iterat... | learni... |\n",
            "-------------------------------------------------------------\n",
            "| \u001b[0m 1       \u001b[0m | \u001b[0m-0.1233  \u001b[0m | \u001b[0m 7.872   \u001b[0m | \u001b[0m 112.0   \u001b[0m | \u001b[0m 0.02614 \u001b[0m |\n",
            "| \u001b[95m 2       \u001b[0m | \u001b[95m-0.01612 \u001b[0m | \u001b[95m 15.35   \u001b[0m | \u001b[95m 58.46   \u001b[0m | \u001b[95m 0.1311  \u001b[0m |\n",
            "| \u001b[95m 3       \u001b[0m | \u001b[95m-0.008942\u001b[0m | \u001b[95m 10.66   \u001b[0m | \u001b[95m 90.54   \u001b[0m | \u001b[95m 0.1884  \u001b[0m |\n",
            "| \u001b[0m 4       \u001b[0m | \u001b[0m-0.01208 \u001b[0m | \u001b[0m 10.78   \u001b[0m | \u001b[0m 181.3   \u001b[0m | \u001b[0m 0.06847 \u001b[0m |\n",
            "| \u001b[0m 5       \u001b[0m | \u001b[0m-0.008999\u001b[0m | \u001b[0m 10.78   \u001b[0m | \u001b[0m 89.55   \u001b[0m | \u001b[0m 0.1908  \u001b[0m |\n",
            "| \u001b[95m 6       \u001b[0m | \u001b[95m-0.008773\u001b[0m | \u001b[95m 12.93   \u001b[0m | \u001b[95m 194.5   \u001b[0m | \u001b[95m 0.07313 \u001b[0m |\n",
            "| \u001b[0m 7       \u001b[0m | \u001b[0m-0.6439  \u001b[0m | \u001b[0m 6.0     \u001b[0m | \u001b[0m 70.56   \u001b[0m | \u001b[0m 0.001   \u001b[0m |\n",
            "| \u001b[0m 8       \u001b[0m | \u001b[0m-0.0109  \u001b[0m | \u001b[0m 16.0    \u001b[0m | \u001b[0m 51.12   \u001b[0m | \u001b[0m 0.2     \u001b[0m |\n",
            "| \u001b[0m 9       \u001b[0m | \u001b[0m-0.04287 \u001b[0m | \u001b[0m 6.231   \u001b[0m | \u001b[0m 189.4   \u001b[0m | \u001b[0m 0.07266 \u001b[0m |\n",
            "| \u001b[95m 10      \u001b[0m | \u001b[95m-0.006239\u001b[0m | \u001b[95m 16.0    \u001b[0m | \u001b[95m 187.1   \u001b[0m | \u001b[95m 0.2     \u001b[0m |\n",
            "| \u001b[0m 11      \u001b[0m | \u001b[0m-0.006342\u001b[0m | \u001b[0m 16.0    \u001b[0m | \u001b[0m 169.6   \u001b[0m | \u001b[0m 0.2     \u001b[0m |\n",
            "| \u001b[0m 12      \u001b[0m | \u001b[0m-0.5859  \u001b[0m | \u001b[0m 6.0     \u001b[0m | \u001b[0m 166.3   \u001b[0m | \u001b[0m 0.001   \u001b[0m |\n",
            "=============================================================\n",
            "It takes 90.66689343452454 minutes\n",
            "{'depth': 16, 'iterations': 187, 'learning_rate': 0.2}\n"
          ]
        }
      ],
      "source": [
        "# create purpose function\n",
        "import catboost as cgb\n",
        "from bayes_opt import BayesianOptimization\n",
        "def cat_cv(learning_rate, depth, iterations):\n",
        "    model = CatBoostClassifier(learning_rate = learning_rate,\n",
        "                                depth = int(round(depth)), \n",
        "                                iterations = int(round(iterations)),\n",
        "                                class_weights = {0:1, 1:592},verbose=False\n",
        "                                )\n",
        "    cv = StratifiedKFold(n_splits=5)\n",
        "    scores = cross_validate(model, X_train, y_train,verbose=False, cv=cv, scoring='neg_log_loss')\n",
        "    return np.mean(scores['test_score'])\n",
        "\n",
        "# Interval to be explored for input values\n",
        "params={'learning_rate': (0.001, 0.2),\n",
        "        'depth' : (6, 16),\n",
        "        'iterations': (50, 200)\n",
        "          }\n",
        "\n",
        "from bayes_opt import BayesianOptimization\n",
        "catBO = BayesianOptimization(cat_cv, params)\n",
        "start = time.time()\n",
        "catBO.maximize(init_points=4, n_iter = 8, acq='ei')\n",
        "\n",
        "print('It takes %s minutes' % ((time.time() - start)/60))\n",
        "\n",
        "params_cat = catBO.max['params']\n",
        "params_cat['depth'] = round(params_cat['depth'])\n",
        "params_cat['iterations'] = round(params_cat['iterations'])\n",
        "print(params_cat)"
      ]
    },
    {
      "cell_type": "code",
      "execution_count": null,
      "metadata": {
        "colab": {
          "base_uri": "https://localhost:8080/"
        },
        "id": "owtqzwDsBb3_",
        "outputId": "e8774482-cd3f-4062-f9ab-d0630fc873f3"
      },
      "outputs": [
        {
          "data": {
            "text/plain": [
              "{'accuracy': 0.9988862496456073,\n",
              " 'f1': 0.7201913444321979,\n",
              " 'precision': 0.6633298083891769,\n",
              " 'recall': 0.8096304591265397,\n",
              " 'roc_auc': 0.9522518953422259}"
            ]
          },
          "execution_count": 31,
          "metadata": {},
          "output_type": "execute_result"
        }
      ],
      "source": [
        "model = CatBoostClassifier(class_weights= {0:1, 1:592}, learning_rate=0.2, iterations=187, depth= 16 ,verbose=False)\n",
        "cv_results(model, output_type='dict')"
      ]
    },
    {
      "cell_type": "code",
      "execution_count": null,
      "metadata": {
        "id": "9OX8ticziYJW"
      },
      "outputs": [],
      "source": [
        "model = CatBoostClassifier(class_weights= {0:1, 1:592}, learning_rate=0.2, iterations=187, depth= 16 ,verbose=False )"
      ]
    },
    {
      "cell_type": "code",
      "execution_count": null,
      "metadata": {
        "colab": {
          "base_uri": "https://localhost:8080/"
        },
        "id": "8xNMHCcKiYfG",
        "outputId": "04099cd6-1404-4be5-d56f-e2275b9b7532"
      },
      "outputs": [
        {
          "name": "stdout",
          "output_type": "stream",
          "text": [
            "              precision    recall  f1-score   support\n",
            "\n",
            "           0       1.00      1.00      1.00     56651\n",
            "           1       0.67      0.82      0.74        95\n",
            "\n",
            "    accuracy                           1.00     56746\n",
            "   macro avg       0.84      0.91      0.87     56746\n",
            "weighted avg       1.00      1.00      1.00     56746\n",
            "\n",
            "[[56613    38]\n",
            " [   17    78]]\n",
            "\n",
            "\n",
            "--------- Summary ------------\n",
            "\n",
            "\n",
            "accuracy: 0.999\n",
            "Precision: 0.6724\n",
            "f1: 0.7393\n",
            "Recall: 0.8211\n",
            "AUC: 0.9102\n",
            "Precision-Recall: 0.5524\n",
            "Precision-Recallproba: 0.795\n",
            "MCC: 0.7425562624804878\n"
          ]
        }
      ],
      "source": [
        "model.fit(X_train, y_train)\n",
        "y_pred = model.predict(X_test)\n",
        "y_proba = model.predict_proba(X_test)[:,1]\n",
        "print(classification_report(y_test, y_pred))\n",
        "print(confusion_matrix(y_test, y_pred))\n",
        "\n",
        "# summary  \n",
        "print('\\n')\n",
        "print('--------- Summary ------------')\n",
        "print('\\n')\n",
        "print('accuracy: {}'.format(round(accuracy_score(y_test, y_pred),4)))\n",
        "print('Precision: {}'.format(round(precision_score(y_test, y_pred),4)))\n",
        "print('f1: {}'.format(round(f1_score(y_test, y_pred),4)))\n",
        "print('Recall: {}'.format(round(recall_score(y_test, y_pred),4)))\n",
        "print('AUC: {}'.format(round(roc_auc_score(y_test, y_pred),4)))\n",
        "print('Precision-Recall: {}'.format(round(average_precision_score(y_test, y_pred),4)))\n",
        "print('Precision-Recallproba: {}'.format(round(average_precision_score(y_test, y_proba),4)))\n",
        "print('MCC: {}'.format((matthews_corrcoef(y_test, y_pred))))"
      ]
    },
    {
      "cell_type": "markdown",
      "metadata": {
        "id": "VenJ_iNTV0wo"
      },
      "source": [
        "# ***cv strifiedkfold***"
      ]
    },
    {
      "cell_type": "code",
      "execution_count": null,
      "metadata": {
        "id": "6RPcn5Hyu8Sy"
      },
      "outputs": [],
      "source": [
        "from sklearn.utils import shuffle\n",
        "from imblearn.pipeline import Pipeline, make_pipeline\n",
        "from imblearn.over_sampling import SMOTE\n",
        "from imblearn.over_sampling import RandomOverSampler\n",
        "X = df.drop('Class', axis = 1)\n",
        "y = df['Class']\n",
        "def cv_results(model, output_type = 'result'):\n",
        "  # Create the pipeline\n",
        "\n",
        "  '''pipeline = make_pipeline(\n",
        "      SMOTE(sampling_strategy='minority', k_neighbors = 5, n_jobs=-1, random_state = 42),\n",
        "      model\n",
        "      )\n",
        "  pipeline = make_pipeline(\n",
        "      RandomUnderSampler(sampling_strategy='majority', random_state = 42),\n",
        "      model\n",
        "      )'''\n",
        "\n",
        "    # Cross validation with sklearn\n",
        "  sk_fold = StratifiedKFold(n_splits=5)\n",
        "\n",
        "  scoring = {'f1': 'f1',\n",
        "             'precision': 'precision',\n",
        "             'recall': 'recall',\n",
        "             'accuracy': 'accuracy',\n",
        "             'roc_auc': 'roc_auc'\n",
        "             }\n",
        "\n",
        "  #cv_scores = cross_validate(pipeline, X, y, scoring = scoring, cv = sk_fold)\n",
        "  cv_scores = cross_validate(model, X, y, scoring = scoring, cv = sk_fold)\n",
        "  \n",
        "  f1 = cv_scores['test_f1']\n",
        "  precision = cv_scores['test_precision']\n",
        "  recall = cv_scores['test_recall']\n",
        "  accuracy = cv_scores['test_accuracy']\n",
        "  roc_auc = cv_scores['test_roc_auc']\n",
        "  # Average the recall and precision and f1 and accuracy scores and roc_auc\n",
        "  avg_f1 = np.mean(cv_scores['test_f1'])\n",
        "  avg_precision = np.mean(cv_scores['test_precision'])\n",
        "  avg_recall = np.mean(cv_scores['test_recall'])\n",
        "  avg_accuracy = np.mean(cv_scores['test_accuracy'])\n",
        "  avg_roc_auc = np.mean(cv_scores['test_roc_auc'])\n",
        "  # Different output options\n",
        "  if output_type == 'dict':\n",
        "    output = {'f1': avg_f1,\n",
        "              'precision': avg_precision,\n",
        "              'recall': avg_recall,\n",
        "              'accuracy': avg_accuracy,\n",
        "              'roc_auc': avg_roc_auc}\n",
        "    return output\n",
        "  elif output_type == 'result':\n",
        "    return cv_scores\n",
        "  elif output_type == 'print':\n",
        "    print('Model: {} \\nF1 score:{:.4f} \\nPrecision: {:.4f} \\nRecall: {:.4f} \\naccuracy: {:.4f}\\nroc_auc: {:.4f}  '.format(\n",
        "        type(model).__name__, avg_f1, avg_precision, avg_recall,  avg_accuracy, roc_auc\n",
        "    ))"
      ]
    },
    {
      "cell_type": "code",
      "execution_count": null,
      "metadata": {
        "colab": {
          "base_uri": "https://localhost:8080/"
        },
        "id": "gWg-_LIid2Xa",
        "outputId": "c1c86c62-87f8-4691-889a-f0397bbe5382"
      },
      "outputs": [
        {
          "data": {
            "text/plain": [
              "{'accuracy': 0.9747679140574812,\n",
              " 'f1': 0.11428496370442968,\n",
              " 'precision': 0.061748420245502186,\n",
              " 'recall': 0.8730123180291154,\n",
              " 'roc_auc': 0.9578426091215487}"
            ]
          },
          "execution_count": 59,
          "metadata": {},
          "output_type": "execute_result"
        }
      ],
      "source": [
        "log_reg = LogisticRegression(class_weight='balanced')\n",
        "cv_results(log_reg, output_type='dict')"
      ]
    },
    {
      "cell_type": "code",
      "execution_count": null,
      "metadata": {
        "id": "lbX_5yUatu_y"
      },
      "outputs": [],
      "source": [
        "model_accuracy = []\n",
        "model_precision = []\n",
        "model_recall = []\n",
        "model_f1 = []\n",
        "model_time = []"
      ]
    },
    {
      "cell_type": "markdown",
      "metadata": {
        "id": "imOhFWWRppTq"
      },
      "source": [
        "##model"
      ]
    },
    {
      "cell_type": "code",
      "execution_count": null,
      "metadata": {
        "id": "K85JUilUC31d"
      },
      "outputs": [],
      "source": [
        "log_reg = LogisticRegression(class_weight='balanced')\n",
        "lightgbm1= lgb.LGBMClassifier()\n",
        "xgboost1 = XGBClassifier()\n",
        "catboost1 = CatBoostClassifier(verbose=False)\n",
        "\n",
        "#CLASS_WEIGHT\n",
        "lightgbm2= lgb.LGBMClassifier(class_weight='balanced')\n",
        "xgboost2 = XGBClassifier(scale_pos_weight = 592)\n",
        "catboost2 = CatBoostClassifier(scale_pos_weight = 592,verbose=False)\n",
        "catboost3 = CatBoostClassifier(class_weights= {0:1, 1:592}, learning_rate=0.2, iterations=187, depth= 16 ,verbose=False )\n",
        "#HYPER_PARAMETR\n",
        "lightgbm = lgb.LGBMClassifier(learning_rate='0.182', max_depth= '8', num_leaves= '33', class_weight='balanced')\n",
        "xgboost = XGBClassifier(scale_pos_weight = 592, learning_rate= 0.1109, max_depth=9, n_estimators= 98)\n",
        "catboost = CatBoostClassifier(scale_pos_weight = 592,verbose=False)\n",
        "\n",
        "#ENSEMBLE\n",
        "Model1 = [('lightgbm', lightgbm), ('xgboost', xgboost), ('catboost', catboost)]\n",
        "Model2 = [('lightgbm', lightgbm), ('xgboost', xgboost)]\n",
        "Model3 = [('catboost', catboost), ('xgboost', xgboost)]\n",
        "Model4 = [('lightgbm', lightgbm), ('catboost', catboost)]\n",
        "\n",
        "voting1 = VotingClassifier(estimators=Model1,voting='soft')\n",
        "voting2 = VotingClassifier(estimators=Model2,voting='soft')\n",
        "voting3 = VotingClassifier(estimators=Model3,voting='soft')\n",
        "voting4 = VotingClassifier(estimators=Model4,voting='soft')"
      ]
    },
    {
      "cell_type": "markdown",
      "metadata": {
        "id": "8GrsoHwaF56q"
      },
      "source": [
        "# ***Result***"
      ]
    },
    {
      "cell_type": "markdown",
      "metadata": {
        "id": "RTW6o1dJmGVz"
      },
      "source": [
        "##*Result Smote Sampling*"
      ]
    },
    {
      "cell_type": "code",
      "execution_count": null,
      "metadata": {
        "id": "sWGulc7tmGV0"
      },
      "outputs": [],
      "source": [
        "models = [lightgbm1, xgboost1 ,catboost1]"
      ]
    },
    {
      "cell_type": "code",
      "execution_count": null,
      "metadata": {
        "id": "rxuiHUbumGV1"
      },
      "outputs": [],
      "source": [
        "name = [\"LGBM_Smote\", \"XGB_Smote\", \"Cat_Smote\"]"
      ]
    },
    {
      "cell_type": "code",
      "execution_count": null,
      "metadata": {
        "id": "H3Q5xqrbmGV2"
      },
      "outputs": [],
      "source": [
        "for model in models:\n",
        "  results = cv_results(model, output_type='dict')\n",
        "\n",
        "  model_accuracy.append(results['accuracy'])\n",
        "  model_precision.append(results['precision'])\n",
        "  model_recall.append(results['recall'])\n",
        "  model_f1.append(results['f1'])"
      ]
    },
    {
      "cell_type": "code",
      "execution_count": null,
      "metadata": {
        "colab": {
          "base_uri": "https://localhost:8080/",
          "height": 144
        },
        "id": "S7j6qPUhb04n",
        "outputId": "c0fa193e-c6bb-4f34-97ea-4becb437ad55"
      },
      "outputs": [
        {
          "data": {
            "text/html": [
              "\n",
              "  <div id=\"df-31bc3687-2f3a-44ed-bc6f-686e093e720e\">\n",
              "    <div class=\"colab-df-container\">\n",
              "      <div>\n",
              "<style scoped>\n",
              "    .dataframe tbody tr th:only-of-type {\n",
              "        vertical-align: middle;\n",
              "    }\n",
              "\n",
              "    .dataframe tbody tr th {\n",
              "        vertical-align: top;\n",
              "    }\n",
              "\n",
              "    .dataframe thead th {\n",
              "        text-align: right;\n",
              "    }\n",
              "</style>\n",
              "<table border=\"1\" class=\"dataframe\">\n",
              "  <thead>\n",
              "    <tr style=\"text-align: right;\">\n",
              "      <th></th>\n",
              "      <th>Model</th>\n",
              "      <th>accuracy</th>\n",
              "      <th>precision</th>\n",
              "      <th>recall</th>\n",
              "      <th>f1</th>\n",
              "    </tr>\n",
              "  </thead>\n",
              "  <tbody>\n",
              "    <tr>\n",
              "      <th>0</th>\n",
              "      <td>LGBM_Smote</td>\n",
              "      <td>0.989715</td>\n",
              "      <td>0.133463</td>\n",
              "      <td>0.801344</td>\n",
              "      <td>0.224954</td>\n",
              "    </tr>\n",
              "    <tr>\n",
              "      <th>1</th>\n",
              "      <td>XGB_Smote</td>\n",
              "      <td>0.98071</td>\n",
              "      <td>0.093944</td>\n",
              "      <td>0.862531</td>\n",
              "      <td>0.165275</td>\n",
              "    </tr>\n",
              "    <tr>\n",
              "      <th>2</th>\n",
              "      <td>Cat_Smote</td>\n",
              "      <td>0.993282</td>\n",
              "      <td>0.180002</td>\n",
              "      <td>0.813908</td>\n",
              "      <td>0.293471</td>\n",
              "    </tr>\n",
              "  </tbody>\n",
              "</table>\n",
              "</div>\n",
              "      <button class=\"colab-df-convert\" onclick=\"convertToInteractive('df-31bc3687-2f3a-44ed-bc6f-686e093e720e')\"\n",
              "              title=\"Convert this dataframe to an interactive table.\"\n",
              "              style=\"display:none;\">\n",
              "        \n",
              "  <svg xmlns=\"http://www.w3.org/2000/svg\" height=\"24px\"viewBox=\"0 0 24 24\"\n",
              "       width=\"24px\">\n",
              "    <path d=\"M0 0h24v24H0V0z\" fill=\"none\"/>\n",
              "    <path d=\"M18.56 5.44l.94 2.06.94-2.06 2.06-.94-2.06-.94-.94-2.06-.94 2.06-2.06.94zm-11 1L8.5 8.5l.94-2.06 2.06-.94-2.06-.94L8.5 2.5l-.94 2.06-2.06.94zm10 10l.94 2.06.94-2.06 2.06-.94-2.06-.94-.94-2.06-.94 2.06-2.06.94z\"/><path d=\"M17.41 7.96l-1.37-1.37c-.4-.4-.92-.59-1.43-.59-.52 0-1.04.2-1.43.59L10.3 9.45l-7.72 7.72c-.78.78-.78 2.05 0 2.83L4 21.41c.39.39.9.59 1.41.59.51 0 1.02-.2 1.41-.59l7.78-7.78 2.81-2.81c.8-.78.8-2.07 0-2.86zM5.41 20L4 18.59l7.72-7.72 1.47 1.35L5.41 20z\"/>\n",
              "  </svg>\n",
              "      </button>\n",
              "      \n",
              "  <style>\n",
              "    .colab-df-container {\n",
              "      display:flex;\n",
              "      flex-wrap:wrap;\n",
              "      gap: 12px;\n",
              "    }\n",
              "\n",
              "    .colab-df-convert {\n",
              "      background-color: #E8F0FE;\n",
              "      border: none;\n",
              "      border-radius: 50%;\n",
              "      cursor: pointer;\n",
              "      display: none;\n",
              "      fill: #1967D2;\n",
              "      height: 32px;\n",
              "      padding: 0 0 0 0;\n",
              "      width: 32px;\n",
              "    }\n",
              "\n",
              "    .colab-df-convert:hover {\n",
              "      background-color: #E2EBFA;\n",
              "      box-shadow: 0px 1px 2px rgba(60, 64, 67, 0.3), 0px 1px 3px 1px rgba(60, 64, 67, 0.15);\n",
              "      fill: #174EA6;\n",
              "    }\n",
              "\n",
              "    [theme=dark] .colab-df-convert {\n",
              "      background-color: #3B4455;\n",
              "      fill: #D2E3FC;\n",
              "    }\n",
              "\n",
              "    [theme=dark] .colab-df-convert:hover {\n",
              "      background-color: #434B5C;\n",
              "      box-shadow: 0px 1px 3px 1px rgba(0, 0, 0, 0.15);\n",
              "      filter: drop-shadow(0px 1px 2px rgba(0, 0, 0, 0.3));\n",
              "      fill: #FFFFFF;\n",
              "    }\n",
              "  </style>\n",
              "\n",
              "      <script>\n",
              "        const buttonEl =\n",
              "          document.querySelector('#df-31bc3687-2f3a-44ed-bc6f-686e093e720e button.colab-df-convert');\n",
              "        buttonEl.style.display =\n",
              "          google.colab.kernel.accessAllowed ? 'block' : 'none';\n",
              "\n",
              "        async function convertToInteractive(key) {\n",
              "          const element = document.querySelector('#df-31bc3687-2f3a-44ed-bc6f-686e093e720e');\n",
              "          const dataTable =\n",
              "            await google.colab.kernel.invokeFunction('convertToInteractive',\n",
              "                                                     [key], {});\n",
              "          if (!dataTable) return;\n",
              "\n",
              "          const docLinkHtml = 'Like what you see? Visit the ' +\n",
              "            '<a target=\"_blank\" href=https://colab.research.google.com/notebooks/data_table.ipynb>data table notebook</a>'\n",
              "            + ' to learn more about interactive tables.';\n",
              "          element.innerHTML = '';\n",
              "          dataTable['output_type'] = 'display_data';\n",
              "          await google.colab.output.renderOutput(dataTable, element);\n",
              "          const docLink = document.createElement('div');\n",
              "          docLink.innerHTML = docLinkHtml;\n",
              "          element.appendChild(docLink);\n",
              "        }\n",
              "      </script>\n",
              "    </div>\n",
              "  </div>\n",
              "  "
            ],
            "text/plain": [
              "        Model  accuracy precision    recall        f1\n",
              "0  LGBM_Smote  0.989715  0.133463  0.801344  0.224954\n",
              "1   XGB_Smote   0.98071  0.093944  0.862531  0.165275\n",
              "2   Cat_Smote  0.993282  0.180002  0.813908  0.293471"
            ]
          },
          "execution_count": 19,
          "metadata": {},
          "output_type": "execute_result"
        }
      ],
      "source": [
        "model = pd.DataFrame(data=[name,\n",
        "                   model_accuracy,\n",
        "                   model_precision,\n",
        "                   model_recall,\n",
        "                   model_f1]).T\n",
        "model.columns = ['Model', 'accuracy',\n",
        "                 'precision', 'recall', 'f1']\n",
        "model.sort_index(axis=0, level=None, ascending=True, inplace=False, kind='quicksort',\n",
        "                                  na_position='last', sort_remaining=True, ignore_index=False, key=None)"
      ]
    },
    {
      "cell_type": "markdown",
      "metadata": {
        "id": "7Pc3NhUcoHQi"
      },
      "source": [
        "##*Result Under Sampling*"
      ]
    },
    {
      "cell_type": "code",
      "execution_count": null,
      "metadata": {
        "id": "ShTil_vboHQk"
      },
      "outputs": [],
      "source": [
        "models = [lightgbm1, xgboost1 ,catboost1]"
      ]
    },
    {
      "cell_type": "code",
      "execution_count": null,
      "metadata": {
        "id": "RlAJtNCioHQl"
      },
      "outputs": [],
      "source": [
        "name = [\"LGBM_UnderSampling\", \"XGB_UnderSampling\", \"Cat_UnderSampling\"]"
      ]
    },
    {
      "cell_type": "code",
      "execution_count": null,
      "metadata": {
        "id": "inNYaQP48p9H"
      },
      "outputs": [],
      "source": [
        "for model in models:\n",
        "  results = cv_results(model, output_type='dict')\n",
        "\n",
        "  model_accuracy.append(results['accuracy'])\n",
        "  model_precision.append(results['precision'])\n",
        "  model_recall.append(results['recall'])\n",
        "  model_f1.append(results['f1'])"
      ]
    },
    {
      "cell_type": "code",
      "execution_count": null,
      "metadata": {
        "colab": {
          "base_uri": "https://localhost:8080/",
          "height": 144
        },
        "id": "VICqZ1ecbLcw",
        "outputId": "5e97f80d-62f8-465d-bfa3-0b55e2928a63"
      },
      "outputs": [
        {
          "data": {
            "text/html": [
              "\n",
              "  <div id=\"df-e41480c2-99d1-4b15-aa67-ea85479ab32c\">\n",
              "    <div class=\"colab-df-container\">\n",
              "      <div>\n",
              "<style scoped>\n",
              "    .dataframe tbody tr th:only-of-type {\n",
              "        vertical-align: middle;\n",
              "    }\n",
              "\n",
              "    .dataframe tbody tr th {\n",
              "        vertical-align: top;\n",
              "    }\n",
              "\n",
              "    .dataframe thead th {\n",
              "        text-align: right;\n",
              "    }\n",
              "</style>\n",
              "<table border=\"1\" class=\"dataframe\">\n",
              "  <thead>\n",
              "    <tr style=\"text-align: right;\">\n",
              "      <th></th>\n",
              "      <th>Model</th>\n",
              "      <th>accuracy</th>\n",
              "      <th>precision</th>\n",
              "      <th>recall</th>\n",
              "      <th>f1</th>\n",
              "    </tr>\n",
              "  </thead>\n",
              "  <tbody>\n",
              "    <tr>\n",
              "      <th>0</th>\n",
              "      <td>LGBM_UnderSampling</td>\n",
              "      <td>0.94918</td>\n",
              "      <td>0.032322</td>\n",
              "      <td>0.879373</td>\n",
              "      <td>0.06198</td>\n",
              "    </tr>\n",
              "    <tr>\n",
              "      <th>1</th>\n",
              "      <td>XGB_UnderSampling</td>\n",
              "      <td>0.951816</td>\n",
              "      <td>0.035279</td>\n",
              "      <td>0.87308</td>\n",
              "      <td>0.067197</td>\n",
              "    </tr>\n",
              "    <tr>\n",
              "      <th>2</th>\n",
              "      <td>Cat_UnderSampling</td>\n",
              "      <td>0.960761</td>\n",
              "      <td>0.043519</td>\n",
              "      <td>0.879395</td>\n",
              "      <td>0.082097</td>\n",
              "    </tr>\n",
              "  </tbody>\n",
              "</table>\n",
              "</div>\n",
              "      <button class=\"colab-df-convert\" onclick=\"convertToInteractive('df-e41480c2-99d1-4b15-aa67-ea85479ab32c')\"\n",
              "              title=\"Convert this dataframe to an interactive table.\"\n",
              "              style=\"display:none;\">\n",
              "        \n",
              "  <svg xmlns=\"http://www.w3.org/2000/svg\" height=\"24px\"viewBox=\"0 0 24 24\"\n",
              "       width=\"24px\">\n",
              "    <path d=\"M0 0h24v24H0V0z\" fill=\"none\"/>\n",
              "    <path d=\"M18.56 5.44l.94 2.06.94-2.06 2.06-.94-2.06-.94-.94-2.06-.94 2.06-2.06.94zm-11 1L8.5 8.5l.94-2.06 2.06-.94-2.06-.94L8.5 2.5l-.94 2.06-2.06.94zm10 10l.94 2.06.94-2.06 2.06-.94-2.06-.94-.94-2.06-.94 2.06-2.06.94z\"/><path d=\"M17.41 7.96l-1.37-1.37c-.4-.4-.92-.59-1.43-.59-.52 0-1.04.2-1.43.59L10.3 9.45l-7.72 7.72c-.78.78-.78 2.05 0 2.83L4 21.41c.39.39.9.59 1.41.59.51 0 1.02-.2 1.41-.59l7.78-7.78 2.81-2.81c.8-.78.8-2.07 0-2.86zM5.41 20L4 18.59l7.72-7.72 1.47 1.35L5.41 20z\"/>\n",
              "  </svg>\n",
              "      </button>\n",
              "      \n",
              "  <style>\n",
              "    .colab-df-container {\n",
              "      display:flex;\n",
              "      flex-wrap:wrap;\n",
              "      gap: 12px;\n",
              "    }\n",
              "\n",
              "    .colab-df-convert {\n",
              "      background-color: #E8F0FE;\n",
              "      border: none;\n",
              "      border-radius: 50%;\n",
              "      cursor: pointer;\n",
              "      display: none;\n",
              "      fill: #1967D2;\n",
              "      height: 32px;\n",
              "      padding: 0 0 0 0;\n",
              "      width: 32px;\n",
              "    }\n",
              "\n",
              "    .colab-df-convert:hover {\n",
              "      background-color: #E2EBFA;\n",
              "      box-shadow: 0px 1px 2px rgba(60, 64, 67, 0.3), 0px 1px 3px 1px rgba(60, 64, 67, 0.15);\n",
              "      fill: #174EA6;\n",
              "    }\n",
              "\n",
              "    [theme=dark] .colab-df-convert {\n",
              "      background-color: #3B4455;\n",
              "      fill: #D2E3FC;\n",
              "    }\n",
              "\n",
              "    [theme=dark] .colab-df-convert:hover {\n",
              "      background-color: #434B5C;\n",
              "      box-shadow: 0px 1px 3px 1px rgba(0, 0, 0, 0.15);\n",
              "      filter: drop-shadow(0px 1px 2px rgba(0, 0, 0, 0.3));\n",
              "      fill: #FFFFFF;\n",
              "    }\n",
              "  </style>\n",
              "\n",
              "      <script>\n",
              "        const buttonEl =\n",
              "          document.querySelector('#df-e41480c2-99d1-4b15-aa67-ea85479ab32c button.colab-df-convert');\n",
              "        buttonEl.style.display =\n",
              "          google.colab.kernel.accessAllowed ? 'block' : 'none';\n",
              "\n",
              "        async function convertToInteractive(key) {\n",
              "          const element = document.querySelector('#df-e41480c2-99d1-4b15-aa67-ea85479ab32c');\n",
              "          const dataTable =\n",
              "            await google.colab.kernel.invokeFunction('convertToInteractive',\n",
              "                                                     [key], {});\n",
              "          if (!dataTable) return;\n",
              "\n",
              "          const docLinkHtml = 'Like what you see? Visit the ' +\n",
              "            '<a target=\"_blank\" href=https://colab.research.google.com/notebooks/data_table.ipynb>data table notebook</a>'\n",
              "            + ' to learn more about interactive tables.';\n",
              "          element.innerHTML = '';\n",
              "          dataTable['output_type'] = 'display_data';\n",
              "          await google.colab.output.renderOutput(dataTable, element);\n",
              "          const docLink = document.createElement('div');\n",
              "          docLink.innerHTML = docLinkHtml;\n",
              "          element.appendChild(docLink);\n",
              "        }\n",
              "      </script>\n",
              "    </div>\n",
              "  </div>\n",
              "  "
            ],
            "text/plain": [
              "                Model  accuracy precision    recall        f1\n",
              "0  LGBM_UnderSampling   0.94918  0.032322  0.879373   0.06198\n",
              "1   XGB_UnderSampling  0.951816  0.035279   0.87308  0.067197\n",
              "2   Cat_UnderSampling  0.960761  0.043519  0.879395  0.082097"
            ]
          },
          "execution_count": 19,
          "metadata": {},
          "output_type": "execute_result"
        }
      ],
      "source": [
        "model = pd.DataFrame(data=[name,\n",
        "                   model_accuracy,\n",
        "                   model_precision,\n",
        "                   model_recall,\n",
        "                   model_f1]).T\n",
        "model.columns = ['Model','accuracy',\n",
        "                 'precision', 'recall', 'f1']\n",
        "model.sort_index(axis=0, level=None, ascending=True, inplace=False, kind='quicksort',\n",
        "                                  na_position='last', sort_remaining=True, ignore_index=False, key=None)"
      ]
    },
    {
      "cell_type": "markdown",
      "metadata": {
        "id": "RPivywgGohTF"
      },
      "source": [
        "##*Result Class_Weight*"
      ]
    },
    {
      "cell_type": "code",
      "execution_count": null,
      "metadata": {
        "id": "EffnxGplohTG"
      },
      "outputs": [],
      "source": [
        "models = [lightgbm2, xgboost2 ,catboost2]"
      ]
    },
    {
      "cell_type": "code",
      "execution_count": null,
      "metadata": {
        "id": "zBzMlttkohTH"
      },
      "outputs": [],
      "source": [
        "name = [\"LGBM_ClassWeight\", \"XGB_ClassWeight\", \"Cat_ClassWeight\"]"
      ]
    },
    {
      "cell_type": "code",
      "execution_count": null,
      "metadata": {
        "id": "1MH_HBnZH2nV"
      },
      "outputs": [],
      "source": [
        "for model in models:\n",
        "  results = cv_results(model, output_type='dict')\n",
        "\n",
        "  model_accuracy.append(results['accuracy'])\n",
        "  model_precision.append(results['precision'])\n",
        "  model_recall.append(results['recall'])\n",
        "  model_f1.append(results['f1'])"
      ]
    },
    {
      "cell_type": "code",
      "execution_count": null,
      "metadata": {
        "colab": {
          "base_uri": "https://localhost:8080/",
          "height": 144
        },
        "id": "QQU2oiqLejkA",
        "outputId": "310b42e4-2593-4421-9be9-4aca432e3f27"
      },
      "outputs": [
        {
          "data": {
            "text/html": [
              "\n",
              "  <div id=\"df-8e918f2e-b0f4-4095-b8e7-a6342ba23753\">\n",
              "    <div class=\"colab-df-container\">\n",
              "      <div>\n",
              "<style scoped>\n",
              "    .dataframe tbody tr th:only-of-type {\n",
              "        vertical-align: middle;\n",
              "    }\n",
              "\n",
              "    .dataframe tbody tr th {\n",
              "        vertical-align: top;\n",
              "    }\n",
              "\n",
              "    .dataframe thead th {\n",
              "        text-align: right;\n",
              "    }\n",
              "</style>\n",
              "<table border=\"1\" class=\"dataframe\">\n",
              "  <thead>\n",
              "    <tr style=\"text-align: right;\">\n",
              "      <th></th>\n",
              "      <th>Model</th>\n",
              "      <th>accuracy</th>\n",
              "      <th>precision</th>\n",
              "      <th>recall</th>\n",
              "      <th>f1</th>\n",
              "    </tr>\n",
              "  </thead>\n",
              "  <tbody>\n",
              "    <tr>\n",
              "      <th>0</th>\n",
              "      <td>LGBM_ClassWeight</td>\n",
              "      <td>0.99847</td>\n",
              "      <td>0.566722</td>\n",
              "      <td>0.811758</td>\n",
              "      <td>0.654898</td>\n",
              "    </tr>\n",
              "    <tr>\n",
              "      <th>1</th>\n",
              "      <td>XGB_ClassWeight</td>\n",
              "      <td>0.986935</td>\n",
              "      <td>0.122347</td>\n",
              "      <td>0.845577</td>\n",
              "      <td>0.209367</td>\n",
              "    </tr>\n",
              "    <tr>\n",
              "      <th>2</th>\n",
              "      <td>Cat_ClassWeight</td>\n",
              "      <td>0.998805</td>\n",
              "      <td>0.64307</td>\n",
              "      <td>0.809608</td>\n",
              "      <td>0.706573</td>\n",
              "    </tr>\n",
              "  </tbody>\n",
              "</table>\n",
              "</div>\n",
              "      <button class=\"colab-df-convert\" onclick=\"convertToInteractive('df-8e918f2e-b0f4-4095-b8e7-a6342ba23753')\"\n",
              "              title=\"Convert this dataframe to an interactive table.\"\n",
              "              style=\"display:none;\">\n",
              "        \n",
              "  <svg xmlns=\"http://www.w3.org/2000/svg\" height=\"24px\"viewBox=\"0 0 24 24\"\n",
              "       width=\"24px\">\n",
              "    <path d=\"M0 0h24v24H0V0z\" fill=\"none\"/>\n",
              "    <path d=\"M18.56 5.44l.94 2.06.94-2.06 2.06-.94-2.06-.94-.94-2.06-.94 2.06-2.06.94zm-11 1L8.5 8.5l.94-2.06 2.06-.94-2.06-.94L8.5 2.5l-.94 2.06-2.06.94zm10 10l.94 2.06.94-2.06 2.06-.94-2.06-.94-.94-2.06-.94 2.06-2.06.94z\"/><path d=\"M17.41 7.96l-1.37-1.37c-.4-.4-.92-.59-1.43-.59-.52 0-1.04.2-1.43.59L10.3 9.45l-7.72 7.72c-.78.78-.78 2.05 0 2.83L4 21.41c.39.39.9.59 1.41.59.51 0 1.02-.2 1.41-.59l7.78-7.78 2.81-2.81c.8-.78.8-2.07 0-2.86zM5.41 20L4 18.59l7.72-7.72 1.47 1.35L5.41 20z\"/>\n",
              "  </svg>\n",
              "      </button>\n",
              "      \n",
              "  <style>\n",
              "    .colab-df-container {\n",
              "      display:flex;\n",
              "      flex-wrap:wrap;\n",
              "      gap: 12px;\n",
              "    }\n",
              "\n",
              "    .colab-df-convert {\n",
              "      background-color: #E8F0FE;\n",
              "      border: none;\n",
              "      border-radius: 50%;\n",
              "      cursor: pointer;\n",
              "      display: none;\n",
              "      fill: #1967D2;\n",
              "      height: 32px;\n",
              "      padding: 0 0 0 0;\n",
              "      width: 32px;\n",
              "    }\n",
              "\n",
              "    .colab-df-convert:hover {\n",
              "      background-color: #E2EBFA;\n",
              "      box-shadow: 0px 1px 2px rgba(60, 64, 67, 0.3), 0px 1px 3px 1px rgba(60, 64, 67, 0.15);\n",
              "      fill: #174EA6;\n",
              "    }\n",
              "\n",
              "    [theme=dark] .colab-df-convert {\n",
              "      background-color: #3B4455;\n",
              "      fill: #D2E3FC;\n",
              "    }\n",
              "\n",
              "    [theme=dark] .colab-df-convert:hover {\n",
              "      background-color: #434B5C;\n",
              "      box-shadow: 0px 1px 3px 1px rgba(0, 0, 0, 0.15);\n",
              "      filter: drop-shadow(0px 1px 2px rgba(0, 0, 0, 0.3));\n",
              "      fill: #FFFFFF;\n",
              "    }\n",
              "  </style>\n",
              "\n",
              "      <script>\n",
              "        const buttonEl =\n",
              "          document.querySelector('#df-8e918f2e-b0f4-4095-b8e7-a6342ba23753 button.colab-df-convert');\n",
              "        buttonEl.style.display =\n",
              "          google.colab.kernel.accessAllowed ? 'block' : 'none';\n",
              "\n",
              "        async function convertToInteractive(key) {\n",
              "          const element = document.querySelector('#df-8e918f2e-b0f4-4095-b8e7-a6342ba23753');\n",
              "          const dataTable =\n",
              "            await google.colab.kernel.invokeFunction('convertToInteractive',\n",
              "                                                     [key], {});\n",
              "          if (!dataTable) return;\n",
              "\n",
              "          const docLinkHtml = 'Like what you see? Visit the ' +\n",
              "            '<a target=\"_blank\" href=https://colab.research.google.com/notebooks/data_table.ipynb>data table notebook</a>'\n",
              "            + ' to learn more about interactive tables.';\n",
              "          element.innerHTML = '';\n",
              "          dataTable['output_type'] = 'display_data';\n",
              "          await google.colab.output.renderOutput(dataTable, element);\n",
              "          const docLink = document.createElement('div');\n",
              "          docLink.innerHTML = docLinkHtml;\n",
              "          element.appendChild(docLink);\n",
              "        }\n",
              "      </script>\n",
              "    </div>\n",
              "  </div>\n",
              "  "
            ],
            "text/plain": [
              "              Model  accuracy precision    recall        f1\n",
              "0  LGBM_ClassWeight   0.99847  0.566722  0.811758  0.654898\n",
              "1   XGB_ClassWeight  0.986935  0.122347  0.845577  0.209367\n",
              "2   Cat_ClassWeight  0.998805   0.64307  0.809608  0.706573"
            ]
          },
          "execution_count": 19,
          "metadata": {},
          "output_type": "execute_result"
        }
      ],
      "source": [
        "model = pd.DataFrame(data=[name,\n",
        "                   model_accuracy,\n",
        "                   model_precision,\n",
        "                   model_recall,\n",
        "                   model_f1]).T\n",
        "model.columns = ['Model', 'accuracy',\n",
        "                 'precision', 'recall', 'f1']\n",
        "model.sort_index(axis=0, level=None, ascending=True, inplace=False, kind='quicksort',\n",
        "                                  na_position='last', sort_remaining=True, ignore_index=False, key=None)"
      ]
    },
    {
      "cell_type": "markdown",
      "metadata": {
        "id": "XOkxHYL0ilp4"
      },
      "source": [
        "##*Result by Hyper Parametr Tuning*"
      ]
    },
    {
      "cell_type": "code",
      "execution_count": null,
      "metadata": {
        "id": "M-hTbbigtcGv"
      },
      "outputs": [],
      "source": [
        "models =[lightgbm, xgboost, catboost, voting1, voting2, voting3, voting4]"
      ]
    },
    {
      "cell_type": "code",
      "execution_count": null,
      "metadata": {
        "id": "tfQ5Ockttjf-"
      },
      "outputs": [],
      "source": [
        "names = [\"LGBM\", \"XGB\", \"CatBoost\",\n",
        "        \"Vot_Lg,Xg,Ca\", \"Vot_Lg,Xg\",\n",
        "        \"Vot_Xg,Ca\", \"Vot_Lg,Ca\"] "
      ]
    },
    {
      "cell_type": "code",
      "execution_count": null,
      "metadata": {
        "id": "kcaloTE9ilp7"
      },
      "outputs": [],
      "source": [
        "for model in models:\n",
        "  #start = time.time()\n",
        "  results = cv_results(model, output_type='dict')\n",
        "\n",
        "  model_accuracy.append(results['accuracy'])\n",
        "  model_precision.append(results['precision'])\n",
        "  model_recall.append(results['recall'])\n",
        "  model_f1.append(results['f1'])\n",
        "  #model_time.append(time.time()-start)"
      ]
    },
    {
      "cell_type": "code",
      "execution_count": null,
      "metadata": {
        "colab": {
          "base_uri": "https://localhost:8080/",
          "height": 269
        },
        "id": "RaUTg4PBjCOE",
        "outputId": "93cbe55f-5501-41cb-cbc2-5d9612409255"
      },
      "outputs": [
        {
          "data": {
            "text/html": [
              "\n",
              "  <div id=\"df-73764b14-68ce-40f3-8f6d-1c29f971b4b5\">\n",
              "    <div class=\"colab-df-container\">\n",
              "      <div>\n",
              "<style scoped>\n",
              "    .dataframe tbody tr th:only-of-type {\n",
              "        vertical-align: middle;\n",
              "    }\n",
              "\n",
              "    .dataframe tbody tr th {\n",
              "        vertical-align: top;\n",
              "    }\n",
              "\n",
              "    .dataframe thead th {\n",
              "        text-align: right;\n",
              "    }\n",
              "</style>\n",
              "<table border=\"1\" class=\"dataframe\">\n",
              "  <thead>\n",
              "    <tr style=\"text-align: right;\">\n",
              "      <th></th>\n",
              "      <th>Model</th>\n",
              "      <th>accuracy</th>\n",
              "      <th>precision</th>\n",
              "      <th>recall</th>\n",
              "      <th>f1</th>\n",
              "    </tr>\n",
              "  </thead>\n",
              "  <tbody>\n",
              "    <tr>\n",
              "      <th>0</th>\n",
              "      <td>LGBM</td>\n",
              "      <td>0.999193</td>\n",
              "      <td>0.753435</td>\n",
              "      <td>0.799015</td>\n",
              "      <td>0.769954</td>\n",
              "    </tr>\n",
              "    <tr>\n",
              "      <th>1</th>\n",
              "      <td>XGB</td>\n",
              "      <td>0.999235</td>\n",
              "      <td>0.786189</td>\n",
              "      <td>0.794916</td>\n",
              "      <td>0.782967</td>\n",
              "    </tr>\n",
              "    <tr>\n",
              "      <th>2</th>\n",
              "      <td>CatBoost</td>\n",
              "      <td>0.998805</td>\n",
              "      <td>0.64307</td>\n",
              "      <td>0.809608</td>\n",
              "      <td>0.706573</td>\n",
              "    </tr>\n",
              "    <tr>\n",
              "      <th>3</th>\n",
              "      <td>Vot_Lg,Xg,Ca</td>\n",
              "      <td>0.999242</td>\n",
              "      <td>0.771991</td>\n",
              "      <td>0.803292</td>\n",
              "      <td>0.782495</td>\n",
              "    </tr>\n",
              "    <tr>\n",
              "      <th>4</th>\n",
              "      <td>Vot_Lg,Xg</td>\n",
              "      <td>0.999274</td>\n",
              "      <td>0.790099</td>\n",
              "      <td>0.801209</td>\n",
              "      <td>0.790084</td>\n",
              "    </tr>\n",
              "    <tr>\n",
              "      <th>5</th>\n",
              "      <td>Vot_Xg,Ca</td>\n",
              "      <td>0.999228</td>\n",
              "      <td>0.768107</td>\n",
              "      <td>0.809675</td>\n",
              "      <td>0.78232</td>\n",
              "    </tr>\n",
              "    <tr>\n",
              "      <th>6</th>\n",
              "      <td>Vot_Lg,Ca</td>\n",
              "      <td>0.999119</td>\n",
              "      <td>0.725998</td>\n",
              "      <td>0.807503</td>\n",
              "      <td>0.758159</td>\n",
              "    </tr>\n",
              "  </tbody>\n",
              "</table>\n",
              "</div>\n",
              "      <button class=\"colab-df-convert\" onclick=\"convertToInteractive('df-73764b14-68ce-40f3-8f6d-1c29f971b4b5')\"\n",
              "              title=\"Convert this dataframe to an interactive table.\"\n",
              "              style=\"display:none;\">\n",
              "        \n",
              "  <svg xmlns=\"http://www.w3.org/2000/svg\" height=\"24px\"viewBox=\"0 0 24 24\"\n",
              "       width=\"24px\">\n",
              "    <path d=\"M0 0h24v24H0V0z\" fill=\"none\"/>\n",
              "    <path d=\"M18.56 5.44l.94 2.06.94-2.06 2.06-.94-2.06-.94-.94-2.06-.94 2.06-2.06.94zm-11 1L8.5 8.5l.94-2.06 2.06-.94-2.06-.94L8.5 2.5l-.94 2.06-2.06.94zm10 10l.94 2.06.94-2.06 2.06-.94-2.06-.94-.94-2.06-.94 2.06-2.06.94z\"/><path d=\"M17.41 7.96l-1.37-1.37c-.4-.4-.92-.59-1.43-.59-.52 0-1.04.2-1.43.59L10.3 9.45l-7.72 7.72c-.78.78-.78 2.05 0 2.83L4 21.41c.39.39.9.59 1.41.59.51 0 1.02-.2 1.41-.59l7.78-7.78 2.81-2.81c.8-.78.8-2.07 0-2.86zM5.41 20L4 18.59l7.72-7.72 1.47 1.35L5.41 20z\"/>\n",
              "  </svg>\n",
              "      </button>\n",
              "      \n",
              "  <style>\n",
              "    .colab-df-container {\n",
              "      display:flex;\n",
              "      flex-wrap:wrap;\n",
              "      gap: 12px;\n",
              "    }\n",
              "\n",
              "    .colab-df-convert {\n",
              "      background-color: #E8F0FE;\n",
              "      border: none;\n",
              "      border-radius: 50%;\n",
              "      cursor: pointer;\n",
              "      display: none;\n",
              "      fill: #1967D2;\n",
              "      height: 32px;\n",
              "      padding: 0 0 0 0;\n",
              "      width: 32px;\n",
              "    }\n",
              "\n",
              "    .colab-df-convert:hover {\n",
              "      background-color: #E2EBFA;\n",
              "      box-shadow: 0px 1px 2px rgba(60, 64, 67, 0.3), 0px 1px 3px 1px rgba(60, 64, 67, 0.15);\n",
              "      fill: #174EA6;\n",
              "    }\n",
              "\n",
              "    [theme=dark] .colab-df-convert {\n",
              "      background-color: #3B4455;\n",
              "      fill: #D2E3FC;\n",
              "    }\n",
              "\n",
              "    [theme=dark] .colab-df-convert:hover {\n",
              "      background-color: #434B5C;\n",
              "      box-shadow: 0px 1px 3px 1px rgba(0, 0, 0, 0.15);\n",
              "      filter: drop-shadow(0px 1px 2px rgba(0, 0, 0, 0.3));\n",
              "      fill: #FFFFFF;\n",
              "    }\n",
              "  </style>\n",
              "\n",
              "      <script>\n",
              "        const buttonEl =\n",
              "          document.querySelector('#df-73764b14-68ce-40f3-8f6d-1c29f971b4b5 button.colab-df-convert');\n",
              "        buttonEl.style.display =\n",
              "          google.colab.kernel.accessAllowed ? 'block' : 'none';\n",
              "\n",
              "        async function convertToInteractive(key) {\n",
              "          const element = document.querySelector('#df-73764b14-68ce-40f3-8f6d-1c29f971b4b5');\n",
              "          const dataTable =\n",
              "            await google.colab.kernel.invokeFunction('convertToInteractive',\n",
              "                                                     [key], {});\n",
              "          if (!dataTable) return;\n",
              "\n",
              "          const docLinkHtml = 'Like what you see? Visit the ' +\n",
              "            '<a target=\"_blank\" href=https://colab.research.google.com/notebooks/data_table.ipynb>data table notebook</a>'\n",
              "            + ' to learn more about interactive tables.';\n",
              "          element.innerHTML = '';\n",
              "          dataTable['output_type'] = 'display_data';\n",
              "          await google.colab.output.renderOutput(dataTable, element);\n",
              "          const docLink = document.createElement('div');\n",
              "          docLink.innerHTML = docLinkHtml;\n",
              "          element.appendChild(docLink);\n",
              "        }\n",
              "      </script>\n",
              "    </div>\n",
              "  </div>\n",
              "  "
            ],
            "text/plain": [
              "          Model  accuracy precision    recall        f1\n",
              "0          LGBM  0.999193  0.753435  0.799015  0.769954\n",
              "1           XGB  0.999235  0.786189  0.794916  0.782967\n",
              "2      CatBoost  0.998805   0.64307  0.809608  0.706573\n",
              "3  Vot_Lg,Xg,Ca  0.999242  0.771991  0.803292  0.782495\n",
              "4     Vot_Lg,Xg  0.999274  0.790099  0.801209  0.790084\n",
              "5     Vot_Xg,Ca  0.999228  0.768107  0.809675   0.78232\n",
              "6     Vot_Lg,Ca  0.999119  0.725998  0.807503  0.758159"
            ]
          },
          "execution_count": 20,
          "metadata": {},
          "output_type": "execute_result"
        }
      ],
      "source": [
        "model = pd.DataFrame(data=[names,\n",
        "                   model_accuracy,\n",
        "                   model_precision,\n",
        "                   model_recall,\n",
        "                   model_f1]).T\n",
        "model.columns = ['Model', 'accuracy',\n",
        "                 'precision', 'recall', 'f1']\n",
        "model.sort_index(axis=0, level=None, ascending=True, inplace=False, kind='quicksort',\n",
        "                                  na_position='last', sort_remaining=True, ignore_index=False, key=None)"
      ]
    },
    {
      "cell_type": "markdown",
      "metadata": {
        "id": "PM7LLx3ZByqZ"
      },
      "source": [
        "# ***result MCC, precision , recall, f1***"
      ]
    },
    {
      "cell_type": "code",
      "execution_count": null,
      "metadata": {
        "id": "KwYQo3gUTlaK"
      },
      "outputs": [],
      "source": [
        "cat_BO = CatBoostClassifier(class_weights= {0:1, 1:592}, learning_rate=0.2, iterations=187, depth= 16 ,verbose=False )\n",
        "names = [\"Cat_BO\"]\n",
        "models = [cat_BO]"
      ]
    },
    {
      "cell_type": "code",
      "execution_count": null,
      "metadata": {
        "colab": {
          "base_uri": "https://localhost:8080/"
        },
        "id": "rfc2jxJoT7ls",
        "outputId": "c2a59700-a9c9-48d8-eba0-2ad49ba85f8e"
      },
      "outputs": [
        {
          "name": "stdout",
          "output_type": "stream",
          "text": [
            ".....Cat_BO.....  \n",
            "\n",
            "MCC :  0.7277133034326325\n",
            "\n",
            "recall :  0.8096304591265397\n",
            "\n",
            "f1:  0.7201913444321979\n",
            "\n",
            "precision:  0.6633298083891769\n",
            "***************************************\n"
          ]
        }
      ],
      "source": [
        "X = df.drop(['Class'] ,axis=1)\n",
        "y = df['Class']\n",
        "i=0\n",
        "j=0 \n",
        "\n",
        "for model in models:\n",
        "  cv = StratifiedKFold(n_splits=5)\n",
        "  precision = []\n",
        "  recall = []\n",
        "  f1 = []\n",
        "  MCC = []\n",
        "\n",
        "  for train, test in cv.split(X, y):\n",
        "\n",
        "      pred = model.fit(X.iloc[train], y.iloc[train]).predict(X.iloc[test])\n",
        "      precision.append(precision_score(y.iloc[test], pred))\n",
        "      recall.append(recall_score(y.iloc[test], pred)) \n",
        "      f1.append(f1_score(y.iloc[test], pred)) \n",
        "      MCC.append(matthews_corrcoef(y.iloc[test], pred)) \n",
        "      i+=1\n",
        "  mean_precision = np.mean(precision) \n",
        "  mean_MCC = np.mean(MCC)\n",
        "  mean_F1  = np.mean(f1)\n",
        "  mean_recall = np.mean(recall)\n",
        "\n",
        "  print(\".....%s.....  \"% names[j])\n",
        "  print(\"\\nMCC : \" ,mean_MCC) \n",
        "  print(\"\\nrecall : \",mean_recall) \n",
        "  print(\"\\nf1: \",mean_F1) \n",
        "  print(\"\\nprecision: \", mean_precision)\n",
        "  print(\"***************************************\")  \n",
        "  i=0\n",
        "  j=j+1"
      ]
    },
    {
      "cell_type": "code",
      "execution_count": null,
      "metadata": {
        "id": "iL1lglSAzmYc"
      },
      "outputs": [],
      "source": [
        "models =[lightgbm, xgboost, catboost, voting1, voting2, voting3, voting4]\n",
        "names = [\"LGBM\", \"XGB\", \"CatBoost\",\n",
        "        \"Vot_Lg,Xg,Ca\", \"Vot_Lg,Xg\",\n",
        "        \"Vot_Xg,Ca\", \"Vot_Lg,Ca\"] "
      ]
    },
    {
      "cell_type": "code",
      "execution_count": null,
      "metadata": {
        "colab": {
          "base_uri": "https://localhost:8080/"
        },
        "id": "jFq8iPqozmp8",
        "outputId": "cb59222b-0246-41cb-877b-04d6d09c9177"
      },
      "outputs": [
        {
          "name": "stdout",
          "output_type": "stream",
          "text": [
            ".....LGBM.....  \n",
            "\n",
            "MCC :  0.7726748526198997\n",
            "\n",
            "recall :  0.7990145576707726\n",
            "\n",
            "f1:  0.7699537580052604\n",
            "\n",
            "precision:  0.7534345479768944\n",
            "***************************************\n",
            ".....XGB.....  \n",
            "\n",
            "MCC :  0.7863785010914954\n",
            "\n",
            "recall :  0.79491601343785\n",
            "\n",
            "f1:  0.7829666438040535\n",
            "\n",
            "precision:  0.7861885315609302\n",
            "***************************************\n",
            ".....CatBoost.....  \n",
            "\n",
            "MCC :  0.7157744657386721\n",
            "\n",
            "recall :  0.8096080627099663\n",
            "\n",
            "f1:  0.7065732359231711\n",
            "\n",
            "precision:  0.6430703185854919\n",
            "***************************************\n",
            ".....Vot_Lg,Xg,Ca.....  \n",
            "\n",
            "MCC :  0.7846869693453189\n",
            "\n",
            "recall :  0.8032922732362822\n",
            "\n",
            "f1:  0.7824948007275045\n",
            "\n",
            "precision:  0.7719909542548364\n",
            "***************************************\n",
            ".....Vot_Lg,Xg.....  \n",
            "\n",
            "MCC :  0.7925050114956379\n",
            "\n",
            "recall :  0.8012094064949608\n",
            "\n",
            "f1:  0.7900840306644892\n",
            "\n",
            "precision:  0.790099281983236\n",
            "***************************************\n",
            ".....Vot_Xg,Ca.....  \n",
            "\n",
            "MCC :  0.7852184244064615\n",
            "\n",
            "recall :  0.8096752519596864\n",
            "\n",
            "f1:  0.7823200225613125\n",
            "\n",
            "precision:  0.7681066335457585\n",
            "***************************************\n",
            ".....Vot_Lg,Ca.....  \n",
            "\n",
            "MCC :  0.7620038698968108\n",
            "\n",
            "recall :  0.8075027995520715\n",
            "\n",
            "f1:  0.7581593206237838\n",
            "\n",
            "precision:  0.7259977413834747\n",
            "***************************************\n"
          ]
        }
      ],
      "source": [
        "X = df.drop(['Class'] ,axis=1)\n",
        "y = df['Class']\n",
        "i=0\n",
        "j=0 \n",
        "\n",
        "for model in models:\n",
        "  cv = StratifiedKFold(n_splits=5)\n",
        "  precision = []\n",
        "  recall = []\n",
        "  f1 = []\n",
        "  MCC = []\n",
        "\n",
        "  for train, test in cv.split(X, y):\n",
        "\n",
        "      pred = model.fit(X.iloc[train], y.iloc[train]).predict(X.iloc[test])\n",
        "      precision.append(precision_score(y.iloc[test], pred))\n",
        "      recall.append(recall_score(y.iloc[test], pred)) \n",
        "      f1.append(f1_score(y.iloc[test], pred)) \n",
        "      MCC.append(matthews_corrcoef(y.iloc[test], pred)) \n",
        "      i+=1\n",
        "  mean_precision = np.mean(precision) \n",
        "  mean_MCC = np.mean(MCC)\n",
        "  mean_F1  = np.mean(f1)\n",
        "  mean_recall = np.mean(recall)\n",
        "\n",
        "  print(\".....%s.....  \"% names[j])\n",
        "  print(\"\\nMCC : \" ,mean_MCC) \n",
        "  print(\"\\nrecall : \",mean_recall) \n",
        "  print(\"\\nf1: \",mean_F1) \n",
        "  print(\"\\nprecision: \", mean_precision)\n",
        "  print(\"***************************************\")  \n",
        "  i=0\n",
        "  j=j+1"
      ]
    },
    {
      "cell_type": "markdown",
      "metadata": {
        "id": "T5043Yfe6XKy"
      },
      "source": [
        "# ***Diagrom***"
      ]
    },
    {
      "cell_type": "markdown",
      "metadata": {
        "id": "9KGHFEcs9_rV"
      },
      "source": [
        "#***Bar Plot***"
      ]
    },
    {
      "cell_type": "code",
      "execution_count": null,
      "metadata": {
        "id": "_H7dxlpF-aer"
      },
      "outputs": [],
      "source": [
        "models =[log_reg, lightgbm, xgboost, catboost, voting1, voting2, voting3, voting4]"
      ]
    },
    {
      "cell_type": "code",
      "execution_count": null,
      "metadata": {
        "colab": {
          "base_uri": "https://localhost:8080/",
          "height": 592
        },
        "outputId": "29cc8577-259e-4545-f441-cd1bb2d779f6",
        "id": "PSmrdJX7QLRe"
      },
      "outputs": [
        {
          "output_type": "display_data",
          "data": {
            "text/plain": [
              "<Figure size 720x720 with 1 Axes>"
            ],
            "image/png": "[encoded data removed]"
          },
          "metadata": {}
        }
      ],
      "source": [
        "from scipy import interp\n",
        "import matplotlib.pyplot as plt\n",
        "\n",
        "X = df.drop(['Class'] ,axis=1)\n",
        "y = df['Class']\n",
        "#colors=['#696969','#2E8B57','#DC143C', '#008080']\n",
        "colors=['#696969','#006633','#008080','#003366' ]\n",
        "f, ax = plt.subplots(ncols=1,nrows=1, figsize=(10,10))\n",
        "i=0\n",
        "j=0 \n",
        "x = np.arange(len(models)) \n",
        "xlim=[-0.05, 1.05]\n",
        "ylim=[0.5, 1.05]\n",
        "for model in models:\n",
        "  cv = StratifiedKFold(n_splits=5)\n",
        "  precision = []\n",
        "  recall = []\n",
        "  f1 = []\n",
        "  MCC = []\n",
        "\n",
        "  for train, test in cv.split(X, y):\n",
        "\n",
        "      pred = model.fit(X.iloc[train], y.iloc[train]).predict(X.iloc[test])\n",
        "      precision.append(precision_score(y.iloc[test], pred))\n",
        "      recall.append(recall_score(y.iloc[test], pred)) \n",
        "      f1.append(f1_score(y.iloc[test], pred)) \n",
        "      MCC.append(matthews_corrcoef(y.iloc[test], pred)) \n",
        "      i+=1\n",
        "  mean_precision = np.mean(precision) \n",
        "  mean_MCC = np.mean(MCC)\n",
        "  mean_F1  = np.mean(f1)\n",
        "  mean_recall = np.mean(recall)\n",
        "\n",
        "  ax.bar(j-0.2, mean_precision,0.2, color=colors[0],  label='Precision',edgecolor=\"black\", linewidth=1)\n",
        "  ax.bar(j-0.2+0.2, mean_MCC,0.2, color=colors[1], label='MCC',edgecolor=\"black\", linewidth=1)\n",
        "  ax.bar(j-0.2+0.4, mean_F1,0.2, color=colors[2], label='F1',edgecolor=\"black\", linewidth=1) \n",
        "  ax.bar(j-0.2+0.6,mean_recall ,0.2, color=colors[3], label ='Recall',edgecolor=\"black\", linewidth=1)\n",
        "  \n",
        "  plt.xticks([0, 1, 2, 3, 4, 5, 6, 7],[\"Log_Reg\",\"LGBM\", \"XGBoost\", \"CatBoost\",\n",
        "                                               \"Vot_Lg,Xg,Ca\", \"Vot_Lg,Xg\",\n",
        "                                               \"Vot_Xg,Ca\", \"Vot_Lg,Ca\"], fontsize = 10, color = 'black')                                             \n",
        "  ax.legend(['Precision', 'MCC', 'F1-score' , 'Recall'], loc='upper left',prop={'size': 12}, facecolor='white', edgecolor='black')\n",
        "  ax.patch.set_facecolor('white')\n",
        "  ax.yaxis.grid(True, color = '#C0C0C0')\n",
        "  ax.patch.set_edgecolor('black')  \n",
        "  ax.patch.set_linewidth('1.5')\n",
        "  i=0\n",
        "  j=j+1\n",
        " \n",
        "plt.show()"
      ]
    },
    {
      "cell_type": "markdown",
      "metadata": {
        "id": "l-eev_73jeIT"
      },
      "source": [
        "#***AUC***"
      ]
    },
    {
      "cell_type": "code",
      "execution_count": null,
      "metadata": {
        "id": "G_IuvTLJeKtw"
      },
      "outputs": [],
      "source": [
        "models =[log_reg, lightgbm, xgboost, catboost, voting1, voting2, voting3, voting4]\n",
        "names = [\"Log_Reg\",\"LGBM\", \"XGB\", \"CatBoost\",\n",
        "        \"Vot_Lg,Xg,Ca\", \"Vot_Lg,Xg\",\n",
        "        \"Vot_Xg,Ca\", \"Vot_Lg,Ca\"] "
      ]
    },
    {
      "cell_type": "code",
      "execution_count": null,
      "metadata": {
        "id": "9FHizI4IexyI"
      },
      "outputs": [],
      "source": [
        "colors = ['#ff1493','#8A2BE2', '#FFFF00', '#7FFFD4', '#8A2BE2','#800000', '#008B8B', '#FFFF00']"
      ]
    },
    {
      "cell_type": "code",
      "execution_count": null,
      "metadata": {
        "colab": {
          "base_uri": "https://localhost:8080/",
          "height": 789
        },
        "id": "itxonfxRCg_f",
        "outputId": "8063ef2f-077b-44fe-9bb5-be87d92dc246"
      },
      "outputs": [
        {
          "data": {
            "image/png": "[encoded data removed]",
            "text/plain": [
              "<Figure size 648x936 with 1 Axes>"
            ]
          },
          "metadata": {},
          "output_type": "display_data"
        }
      ],
      "source": [
        "from scipy import interp\n",
        "import matplotlib.pyplot as plt\n",
        "from sklearn.metrics import roc_curve, auc, roc_auc_score\n",
        "X = df.drop(['Class'] ,axis=1)\n",
        "y = df['Class']\n",
        "f, axes = plt.subplots(ncols=1,nrows=1, figsize=(9,13))\n",
        "linestyle=['-.','-.','-.','-.','','-.','','']\n",
        "i=0\n",
        "j=0\n",
        "for model in models:\n",
        "  cv = StratifiedKFold(n_splits=5)\n",
        "  tprs = []\n",
        "  aucs = []\n",
        "  mean_fpr = np.linspace(0, 1, 100)\n",
        "\n",
        "  for train, test in cv.split(X, y):\n",
        "\n",
        "      probas_ = model.fit(X.iloc[train], y.iloc[train]).predict_proba(X.iloc[test])\n",
        "      fpr, tpr, thresholds = roc_curve(y.iloc[test], probas_[:,1])\n",
        "      tprs.append(interp(mean_fpr, fpr, tpr))\n",
        "      tprs[-1][0] = 0.0\n",
        "      roc_auc = auc(fpr, tpr)\n",
        "      aucs.append(roc_auc)\n",
        "      i+=1\n",
        "  mean_tpr = np.mean(tprs, axis=0)\n",
        "  mean_tpr[-1] = 1.0\n",
        "  mean_auc = auc(mean_fpr, mean_tpr)\n",
        "  axes.plot([0, 1], [0, 1], linestyle='--', lw=2, color='#808A87', alpha=.8)\n",
        "  axes.plot(mean_fpr, mean_tpr, color=colors[j],\n",
        "            label= r'%s(AUC = %0.4f)'% (names[j], mean_auc),\n",
        "            linestyle=linestyle[j], lw=2, alpha=0.9)\n",
        "  xlim=[-0.05, 1.05]\n",
        "  ylim=[-0.05, 1.05] \n",
        "  axes.legend(loc=\"lower right\", prop={'size': 14})  \n",
        "  i=0\n",
        "  j=j+1\n",
        "plt.xlabel('False Positive Rate',fontsize=14)\n",
        "plt.title('ROC_AUC', fontsize=14)\n",
        "plt.ylabel('True Positive Rate',fontsize=14) \n",
        "plt.ylim([-0.01,1.01])  \n",
        "plt.show()           "
      ]
    },
    {
      "cell_type": "code",
      "execution_count": null,
      "metadata": {
        "id": "UzTDARyA-QJI"
      },
      "outputs": [],
      "source": [
        "colors = ['#ff1493','#8A2BE2', '#00FF00','#F4A460', '#808000','#FFD700', '#800000', '#008B8B']"
      ]
    },
    {
      "cell_type": "code",
      "execution_count": null,
      "metadata": {
        "colab": {
          "base_uri": "https://localhost:8080/",
          "height": 555
        },
        "id": "WJPhX38EmifO",
        "outputId": "4613bb4c-a0a7-4232-eff2-5f9831140c15"
      },
      "outputs": [
        {
          "data": {
            "image/png": "[encoded data removed]",
            "text/plain": [
              "<Figure size 648x648 with 1 Axes>"
            ]
          },
          "metadata": {},
          "output_type": "display_data"
        }
      ],
      "source": [
        "from scipy import interp\n",
        "import matplotlib.pyplot as plt\n",
        "from sklearn.metrics import roc_curve, auc, roc_auc_score\n",
        "X = df.drop(['Class'] ,axis=1)\n",
        "y = df['Class']\n",
        "f, axes = plt.subplots(ncols=1,nrows=1, figsize=(9,9))\n",
        "\n",
        "i=0\n",
        "j=0\n",
        "for model in models:\n",
        "  cv = StratifiedKFold(n_splits=5)\n",
        "  tprs = []\n",
        "  aucs = []\n",
        "  mean_fpr = np.linspace(0, 1, 100)\n",
        "\n",
        "  for train, test in cv.split(X, y):\n",
        "\n",
        "      probas_ = model.fit(X.iloc[train], y.iloc[train]).predict_proba(X.iloc[test])\n",
        "      fpr, tpr, thresholds = roc_curve(y.iloc[test], probas_[:,1])\n",
        "      tprs.append(interp(mean_fpr, fpr, tpr))\n",
        "      tprs[-1][0] = 0.0\n",
        "      roc_auc = auc(fpr, tpr)\n",
        "      aucs.append(roc_auc)\n",
        "      i+=1\n",
        "  mean_tpr = np.mean(tprs, axis=0)\n",
        "  mean_tpr[-1] = 1.0\n",
        "  mean_auc = auc(mean_fpr, mean_tpr)\n",
        "  axes.plot([0, 1], [0, 1], linestyle='--', lw=2, color='#808A87', alpha=.8)\n",
        "  axes.plot(mean_fpr, mean_tpr, color=colors[j],\n",
        "            label= r'%s(AUC = %0.4f)'% (names[j], mean_auc),\n",
        "            linestyle='-.', lw=2, alpha=0.9)\n",
        "  xlim=[-0.05, 1.05]\n",
        "  ylim=[-0.05, 1.05]\n",
        "  axes.patch.set_facecolor('white')\n",
        "  axes.grid(True, color = '#E0E0E0')\n",
        "  axes.patch.set_edgecolor('black')  \n",
        "  axes.patch.set_linewidth('1.5') \n",
        "  axes.legend(loc=\"lower right\", prop={'size': 14}, facecolor = 'white', edgecolor='black')  \n",
        "  i=0\n",
        "  j=j+1\n",
        "plt.xlabel('False Positive Rate',fontsize=14)\n",
        "#plt.title('ROC_AUC', fontsize=14)\n",
        "plt.ylabel('True Positive Rate',fontsize=14)\n",
        "plt.xlim([-0.01,1.01])\n",
        "plt.ylim([0.49,1.01])   \n",
        "plt.show()"
      ]
    },
    {
      "cell_type": "markdown",
      "metadata": {
        "id": "hL0UKrDUCImr"
      },
      "source": [
        "#***Precision_Recall***"
      ]
    },
    {
      "cell_type": "code",
      "execution_count": null,
      "metadata": {
        "id": "HliaCSuigN-P"
      },
      "outputs": [],
      "source": [
        "models =[log_reg, lightgbm, xgboost, catboost, voting1, voting2, voting3, voting4]\n",
        "names = [\"Log_Reg\",\"LGBM\", \"XGB\", \"CatBoost\",\n",
        "        \"Vot_Lg,Xg,Ca\", \"Vot_Lg,Xg\",\n",
        "        \"Vot_Xg,Ca\", \"Vot_Lg,Ca\"] "
      ]
    },
    {
      "cell_type": "code",
      "execution_count": null,
      "metadata": {
        "colab": {
          "base_uri": "https://localhost:8080/",
          "height": 555
        },
        "id": "FpdNtUS8vDfC",
        "outputId": "a5143f51-3316-4fd5-b206-2df16853173d"
      },
      "outputs": [
        {
          "data": {
            "image/png": "[encoded data removed]",
            "text/plain": [
              "<Figure size 648x648 with 1 Axes>"
            ]
          },
          "metadata": {},
          "output_type": "display_data"
        }
      ],
      "source": [
        "import matplotlib.pyplot as plt\n",
        "import numpy\n",
        "from sklearn.datasets import make_blobs\n",
        "from sklearn.metrics import precision_recall_curve, auc\n",
        "from scipy import interp\n",
        "X = df.drop(['Class'] ,axis=1)\n",
        "y = df['Class']\n",
        "f, axes = plt.subplots(ncols=1,nrows=1, figsize=(9,9))\n",
        "i=0\n",
        "j=0\n",
        "for model in models:\n",
        "  cv = StratifiedKFold(n_splits=5)\n",
        "    # defining the lists\n",
        "  prs = []\n",
        "  aucs = []\n",
        "  mean_recall = np.linspace(0, 1, 100)\n",
        "  for train, test in cv.split(X, y):\n",
        "\n",
        "      probas_ = model.fit(X.iloc[train], y.iloc[train]).predict_proba(X.iloc[test])\n",
        "      # Compute PR curve and area the curve\n",
        "      precision, recall, thresholds = precision_recall_curve(y[test], probas_[:, 1])\n",
        "      prs.append(interp(mean_recall, precision, recall))\n",
        "      pr_auc = auc(recall, precision)\n",
        "      aucs.append(pr_auc)\n",
        "      i+=1\n",
        "  axes.plot([0, 1], [1, 0], linestyle='--', lw=2, color='#808A87', alpha=.8)\n",
        "  mean_precision = np.mean(prs, axis=0)\n",
        "  mean_auc = auc(mean_recall, mean_precision)\n",
        "  axes.step(mean_precision, mean_recall,\n",
        "             label=r'%s(AUC_PR = %0.4f)' % (names[j], mean_auc),\n",
        "             linestyle='-.',lw=2, alpha=0.9 , color=colors[j])\n",
        "             \n",
        "  xlim=[-0.05, 1.05]\n",
        "  ylim=[-0.05, 1.05]  \n",
        "  axes.patch.set_facecolor('white')\n",
        "  axes.grid(True, color = '#E0E0E0')\n",
        "  axes.patch.set_edgecolor('black')  \n",
        "  axes.patch.set_linewidth('1.5') \n",
        "  axes.legend(loc=\"lower left\", prop={'size': 14}, facecolor = 'white', edgecolor='black')\n",
        "  i=0\n",
        "  j=j+1\n",
        "#plt.title('AUC_Precision Recall Curve', fontsize=14)\n",
        "plt.xlabel('Recall',fontsize=14)\n",
        "plt.ylabel('Precision',fontsize=14)\n",
        " \n",
        "plt.show()"
      ]
    },
    {
      "cell_type": "markdown",
      "metadata": {
        "id": "ToZd4NAd2hys"
      },
      "source": [
        "# ***DeepLearning***"
      ]
    },
    {
      "cell_type": "markdown",
      "metadata": {
        "id": "-E88g9E5DQSe"
      },
      "source": [
        "# ***x,y train, test data***"
      ]
    },
    {
      "cell_type": "code",
      "execution_count": null,
      "metadata": {
        "colab": {
          "base_uri": "https://localhost:8080/"
        },
        "id": "KMt7i0qcDQSg",
        "outputId": "7819db68-d489-49ef-bbb6-b7245bbb2e48"
      },
      "outputs": [
        {
          "output_type": "stream",
          "name": "stdout",
          "text": [
            "Train1 Shape: (226980, 32) \n",
            "Test1 Shape: (56746, 32)\n"
          ]
        }
      ],
      "source": [
        "train1, test1 = train_test_split(data, test_size = 0.2, random_state=42)\n",
        "print(\"Train1 Shape: {} \\nTest1 Shape: {}\".format(train1.shape, test1.shape))"
      ]
    },
    {
      "cell_type": "markdown",
      "metadata": {
        "id": "Z0pJ4OjIDQSh"
      },
      "source": [
        "###x,y train"
      ]
    },
    {
      "cell_type": "code",
      "execution_count": null,
      "metadata": {
        "colab": {
          "base_uri": "https://localhost:8080/"
        },
        "id": "_HC3i3weDQSi",
        "outputId": "87ea056b-7043-4a04-988a-db0f502935a0"
      },
      "outputs": [
        {
          "output_type": "stream",
          "name": "stdout",
          "text": [
            "\n",
            "X_train1  shape: (226980, 31) \n",
            "y_train1 shape: (226980,)\n"
          ]
        }
      ],
      "source": [
        "X_train1  = train1.drop('Class', axis=1).values\n",
        "y_train1  = train1['Class'].values\n",
        "print('\\nX_train1  shape: {} \\ny_train1 shape: {}'.format(X_train1.shape, y_train1.shape))"
      ]
    },
    {
      "cell_type": "code",
      "execution_count": null,
      "metadata": {
        "id": "HOIVoVCOv9d6"
      },
      "outputs": [],
      "source": [
        "from sklearn.preprocessing import RobustScaler\n",
        "robust_scaler = RobustScaler()\n",
        "X_train1  = robust_scaler.fit_transform(X_train1)"
      ]
    },
    {
      "cell_type": "markdown",
      "metadata": {
        "id": "l77EKUQjDQSi"
      },
      "source": [
        "###X, y test"
      ]
    },
    {
      "cell_type": "code",
      "execution_count": null,
      "metadata": {
        "colab": {
          "base_uri": "https://localhost:8080/"
        },
        "id": "zWH-X1HWDQSj",
        "outputId": "3e27ce73-ccdd-41fb-a6bd-2dd427dd95dc"
      },
      "outputs": [
        {
          "output_type": "stream",
          "name": "stdout",
          "text": [
            "\n",
            "X_test1  shape: (56746, 31) \n",
            "y_test1 shape: (56746,)\n"
          ]
        }
      ],
      "source": [
        "X_test1  = test1.drop('Class', axis=1).values\n",
        "y_test1  = test1['Class']\n",
        "print('\\nX_test1  shape: {} \\ny_test1 shape: {}'.format(X_test1.shape, y_test1.shape))"
      ]
    },
    {
      "cell_type": "code",
      "execution_count": null,
      "metadata": {
        "id": "5-eiH3JJzqrY"
      },
      "outputs": [],
      "source": [
        "from sklearn.preprocessing import RobustScaler\n",
        "rob_scaler = RobustScaler()\n",
        "\n",
        "X_test1 = rob_scaler.fit_transform(X_test1)"
      ]
    },
    {
      "cell_type": "markdown",
      "metadata": {
        "id": "3bBQHjn1--fV"
      },
      "source": [
        "#***genarate model***"
      ]
    },
    {
      "cell_type": "code",
      "execution_count": null,
      "metadata": {
        "id": "uJvApqP2--fY"
      },
      "outputs": [],
      "source": [
        "def generate_model(batch_size, epochs, neuronPct):\n",
        "   \n",
        "    model = Sequential()\n",
        "    neurons = int(neuronPct * 100)\n",
        "    # So long as there would have been at least 20 neurons and fewer than 5layers, create a new layer. \n",
        "    layer = 0\n",
        "    while  round(neurons)>20 and layer <5:\n",
        "        # The first (0th) layer needs an input input_dim(neuronCount)\n",
        "        if layer==0:  \n",
        "           model.add(Dense(neurons,input_dim=31 , activation= 'relu', kernel_initializer='he_uniform'))\n",
        "        else:\n",
        "            model.add(Dense(neurons, activation='relu'))                \n",
        "\n",
        "        layer += 1\n",
        "        neurons = round((neurons +1)/2)\n",
        "\n",
        "    model.add(Dense(1,activation='sigmoid')) # Output\n",
        "    return model"
      ]
    },
    {
      "cell_type": "code",
      "execution_count": null,
      "metadata": {
        "colab": {
          "base_uri": "https://localhost:8080/"
        },
        "outputId": "b4cea3d8-5ae7-4d81-f624-433c7e400248",
        "id": "t7qBEBLT6iR3"
      },
      "outputs": [
        {
          "output_type": "stream",
          "name": "stdout",
          "text": [
            "|   iter    |  target   | batch_... |  epochs   | neuronPct |\n",
            "-------------------------------------------------------------\n",
            "| \u001b[0m 1       \u001b[0m | \u001b[0m-0.8651  \u001b[0m | \u001b[0m 1.809e+0\u001b[0m | \u001b[0m 121.8   \u001b[0m | \u001b[0m 0.5771  \u001b[0m |\n",
            "| \u001b[0m 2       \u001b[0m | \u001b[0m-0.9267  \u001b[0m | \u001b[0m 1.341e+0\u001b[0m | \u001b[0m 84.61   \u001b[0m | \u001b[0m 0.5109  \u001b[0m |\n",
            "| \u001b[95m 3       \u001b[0m | \u001b[95m-0.6224  \u001b[0m | \u001b[95m 1.495e+0\u001b[0m | \u001b[95m 90.3    \u001b[0m | \u001b[95m 0.9427  \u001b[0m |\n",
            "| \u001b[0m 4       \u001b[0m | \u001b[0m-1.926   \u001b[0m | \u001b[0m 2.808e+0\u001b[0m | \u001b[0m 128.1   \u001b[0m | \u001b[0m 0.9518  \u001b[0m |\n",
            "| \u001b[0m 5       \u001b[0m | \u001b[0m-1.763   \u001b[0m | \u001b[0m 1.517e+0\u001b[0m | \u001b[0m 55.41   \u001b[0m | \u001b[0m 0.5107  \u001b[0m |\n",
            "| \u001b[0m 6       \u001b[0m | \u001b[0m-0.9252  \u001b[0m | \u001b[0m 2.213e+0\u001b[0m | \u001b[0m 78.43   \u001b[0m | \u001b[0m 0.9365  \u001b[0m |\n",
            "| \u001b[0m 7       \u001b[0m | \u001b[0m-2.414   \u001b[0m | \u001b[0m 2.211e+0\u001b[0m | \u001b[0m 81.87   \u001b[0m | \u001b[0m 0.6905  \u001b[0m |\n",
            "| \u001b[0m 8       \u001b[0m | \u001b[0m-0.8636  \u001b[0m | \u001b[0m 2.371e+0\u001b[0m | \u001b[0m 28.25   \u001b[0m | \u001b[0m 0.8228  \u001b[0m |\n",
            "| \u001b[0m 9       \u001b[0m | \u001b[0m-1.993   \u001b[0m | \u001b[0m 3.181e+0\u001b[0m | \u001b[0m 120.4   \u001b[0m | \u001b[0m 0.9661  \u001b[0m |\n",
            "| \u001b[0m 10      \u001b[0m | \u001b[0m-0.7647  \u001b[0m | \u001b[0m 3.315e+0\u001b[0m | \u001b[0m 39.42   \u001b[0m | \u001b[0m 0.6542  \u001b[0m |\n",
            "| \u001b[0m 11      \u001b[0m | \u001b[0m-1.135   \u001b[0m | \u001b[0m 2.17e+03\u001b[0m | \u001b[0m 104.7   \u001b[0m | \u001b[0m 0.6396  \u001b[0m |\n",
            "| \u001b[0m 12      \u001b[0m | \u001b[0m-1.061   \u001b[0m | \u001b[0m 2.776e+0\u001b[0m | \u001b[0m 36.69   \u001b[0m | \u001b[0m 0.8304  \u001b[0m |\n",
            "| \u001b[0m 13      \u001b[0m | \u001b[0m-1.171   \u001b[0m | \u001b[0m 2.085e+0\u001b[0m | \u001b[0m 32.66   \u001b[0m | \u001b[0m 0.7278  \u001b[0m |\n",
            "| \u001b[95m 14      \u001b[0m | \u001b[95m-0.4953  \u001b[0m | \u001b[95m 1.563e+0\u001b[0m | \u001b[95m 117.4   \u001b[0m | \u001b[95m 0.8648  \u001b[0m |\n",
            "| \u001b[0m 15      \u001b[0m | \u001b[0m-1.216   \u001b[0m | \u001b[0m 1.356e+0\u001b[0m | \u001b[0m 135.9   \u001b[0m | \u001b[0m 0.7216  \u001b[0m |\n",
            "| \u001b[0m 16      \u001b[0m | \u001b[0m-1.457   \u001b[0m | \u001b[0m 2.721e+0\u001b[0m | \u001b[0m 140.6   \u001b[0m | \u001b[0m 0.643   \u001b[0m |\n",
            "=============================================================\n",
            "It takes 8.144162921110789 minutes\n",
            "{'batch_size': 1563, 'epochs': 117, 'neuronPct': 0.86}\n"
          ]
        }
      ],
      "source": [
        "def keras_cv(batch_size, epochs, neuronPct):\n",
        "    cv = StratifiedKFold(n_splits=5)\n",
        "    num = 0\n",
        "    for train, test in cv.split(X_train1, y_train1):\n",
        "        num+=1\n",
        "        # Split train and test\n",
        "        x_train = X_train1[train]\n",
        "        Y_train = y_train1[train]\n",
        "        x_test = X_train1[test]\n",
        "        Y_test = y_train1[test]\n",
        "        model = generate_model(batch_size, epochs, neuronPct)\n",
        "        opt = tf.keras.optimizers.Adam() #optimizer\n",
        "        model.compile(optimizer=opt, loss='binary_crossentropy', metrics=['accuracy'])\n",
        "        callback = tf.keras.callbacks.EarlyStopping(monitor=\"val_loss\")\n",
        "        params_dl['batch_size'] = round(batch_size)\n",
        "        params_dl['epochs'] = round(epochs)\n",
        "        params_dl['neuronPct'] = neuronPct\n",
        "        model.fit(x_train,Y_train,validation_split=0.1\n",
        "                  ,class_weight={0:0.25, 1:148}\n",
        "                  ,callbacks=[callback]\n",
        "                  ,verbose=0,epochs=round(epochs), batch_size=round(batch_size))\n",
        "\n",
        "        # Predict on the out of boot (validation)\n",
        "        proba = model.predict(x_test)\n",
        "        pred = (model.predict(x_test)> 0.5)\n",
        "        score = metrics.log_loss(Y_test, pred)\n",
        "    tensorflow.keras.backend.clear_session()\n",
        "    return (-(np.mean(score)))\n",
        "\n",
        "params_dl={'batch_size' : (1000,3500),\n",
        "           'epochs' : (25,150),\n",
        "           'neuronPct': (0.51, 1)\n",
        "           }   \n",
        "\n",
        "dlBO = BayesianOptimization(keras_cv, params_dl, verbose=2)\n",
        "# verbose = 1 prints only when a maximum \n",
        "# is observed, verbose = 0 is silent\n",
        "start = time.time()\n",
        "dlBO.maximize(init_points=6, n_iter =10, acq='ei')\n",
        "\n",
        "print('It takes %s minutes' % ((time.time() - start)/60))\n",
        "\n",
        "params_dl = dlBO.max['params']\n",
        "params_dl['epochs'] = round(params_dl['epochs'])\n",
        "params_dl['batch_size'] = round(params_dl['batch_size'])\n",
        "params_dl['neuronPct'] = round((params_dl['neuronPct']), 2)\n",
        "print(params_dl)"
      ]
    },
    {
      "cell_type": "markdown",
      "metadata": {
        "id": "1KuNzOs-ByYC"
      },
      "source": [
        "#***model summury***"
      ]
    },
    {
      "cell_type": "code",
      "execution_count": null,
      "metadata": {
        "id": "9BeDtDXD6mFv"
      },
      "outputs": [],
      "source": [
        "model = generate_model(batch_size= 1563 ,epochs=117 ,neuronPct=0.86)"
      ]
    },
    {
      "cell_type": "code",
      "execution_count": null,
      "metadata": {
        "colab": {
          "base_uri": "https://localhost:8080/"
        },
        "outputId": "e252cd50-beab-4194-d58c-81ea6c47f97d",
        "id": "5uphNWLd6sET"
      },
      "outputs": [
        {
          "output_type": "stream",
          "name": "stdout",
          "text": [
            "Model: \"sequential\"\n",
            "_________________________________________________________________\n",
            " Layer (type)                Output Shape              Param #   \n",
            "=================================================================\n",
            " dense (Dense)               (None, 86)                2752      \n",
            "                                                                 \n",
            " dense_1 (Dense)             (None, 44)                3828      \n",
            "                                                                 \n",
            " dense_2 (Dense)             (None, 22)                990       \n",
            "                                                                 \n",
            " dense_3 (Dense)             (None, 1)                 23        \n",
            "                                                                 \n",
            "=================================================================\n",
            "Total params: 7,593\n",
            "Trainable params: 7,593\n",
            "Non-trainable params: 0\n",
            "_________________________________________________________________\n"
          ]
        }
      ],
      "source": [
        "model.summary()"
      ]
    },
    {
      "cell_type": "markdown",
      "metadata": {
        "id": "VrNYC9baB3GK"
      },
      "source": [
        "#***result keras***"
      ]
    },
    {
      "cell_type": "code",
      "source": [
        "opt = tf.keras.optimizers.Adam() #optimizer\n",
        "\n",
        "model.compile(optimizer=opt, loss=tf.keras.losses.BinaryCrossentropy(), metrics=['accuracy'])\n",
        "\n",
        "history = model.fit(X_train1, y_train1, epochs =117 ,\n",
        "                    batch_size=1563,validation_split = 0.1\n",
        "                    ,class_weight={0:0.25, 1:148}  \n",
        "                    ,verbose = 0)\n",
        "history_dict = history.history     \n",
        "y_prob = model.predict(X_test1)    \n",
        "y_pred = (model.predict(X_test1)> 0.5).astype(\"int32\")"
      ],
      "metadata": {
        "id": "_E1Voqi8iHrE"
      },
      "execution_count": null,
      "outputs": []
    },
    {
      "cell_type": "code",
      "execution_count": null,
      "metadata": {
        "colab": {
          "base_uri": "https://localhost:8080/"
        },
        "id": "QlKwXE9f4iFw",
        "outputId": "41a57520-9ecc-4790-cc21-f74bcf7dfa7a"
      },
      "outputs": [
        {
          "output_type": "stream",
          "name": "stdout",
          "text": [
            "              precision    recall  f1-score   support\n",
            "\n",
            "           0       1.00      1.00      1.00     56656\n",
            "           1       0.80      0.82      0.81        90\n",
            "\n",
            "    accuracy                           1.00     56746\n",
            "   macro avg       0.90      0.91      0.91     56746\n",
            "weighted avg       1.00      1.00      1.00     56746\n",
            "\n",
            "[[56638    18]\n",
            " [   16    74]]\n",
            "\n",
            "\n",
            "--------- Summary ------------\n",
            "\n",
            "\n",
            "accuracy: 0.9994\n",
            "Precision: 0.8043\n",
            "f1: 0.8132\n",
            "Recall: 0.8222\n",
            "AUC: 0.9401\n",
            "Precision-Recall: 0.7922\n",
            "MCC: 0.8129360313935904\n"
          ]
        }
      ],
      "source": [
        "print(classification_report(y_test1 , y_pred))\n",
        "print(confusion_matrix(y_test1 , y_pred))\n",
        "\n",
        "# summary  \n",
        "print('\\n')\n",
        "print('--------- Summary ------------')\n",
        "print('\\n')\n",
        "print('accuracy: {}'.format(round(accuracy_score(y_test1, y_pred),4)))\n",
        "print('Precision: {}'.format(round(precision_score(y_test1, y_pred),4)))\n",
        "print('f1: {}'.format(round(metrics.f1_score(y_test1, y_pred),4)))\n",
        "print('Recall: {}'.format(round(recall_score(y_test1, y_pred),4)))\n",
        "print('AUC: {}'.format(round(roc_auc_score(y_test1, y_prob),4)))\n",
        "print('Precision-Recall: {}'.format(round(average_precision_score(y_test1, y_prob),4)))\n",
        "print('MCC: {}'.format((matthews_corrcoef(y_test1, y_pred))))"
      ]
    },
    {
      "cell_type": "markdown",
      "metadata": {
        "id": "2Wr9dGq6CCoz"
      },
      "source": [
        "#***diagram loss , accuracy train***"
      ]
    },
    {
      "cell_type": "code",
      "execution_count": null,
      "metadata": {
        "colab": {
          "base_uri": "https://localhost:8080/"
        },
        "id": "H_uZe-X94iFz",
        "outputId": "b2235dcf-9272-4d08-ce1b-e633a0d48ddf"
      },
      "outputs": [
        {
          "output_type": "execute_result",
          "data": {
            "text/plain": [
              "Text(0.5, 1.0, 'val_loss')"
            ]
          },
          "metadata": {},
          "execution_count": 116
        },
        {
          "output_type": "display_data",
          "data": {
            "text/plain": [
              "<Figure size 432x360 with 1 Axes>"
            ],
            "image/png": "[encoded data removed]"
          },
          "metadata": {}
        }
      ],
      "source": [
        "loss_values = history_dict['loss']\n",
        "val_loss_values=history_dict['val_loss']\n",
        "f, ax = plt.subplots(ncols=1,nrows=1, figsize=(6,5))\n",
        "plt.plot(loss_values,'b',label='training loss')\n",
        "plt.plot(val_loss_values,'r',label='val training loss')\n",
        "ax.patch.set_facecolor('white')\n",
        "ax.grid(True, color = '#E0E0E0')\n",
        "ax.patch.set_edgecolor('black')  \n",
        "ax.patch.set_linewidth('1.5') \n",
        "ax.legend(loc=\"upper right\", prop={'size': 14}, facecolor = 'white', edgecolor='black')\n",
        "plt.xlabel(\"Epochs\")\n",
        "plt.ylabel(\"loss\")\n",
        "plt.title('val_loss', fontsize=14)"
      ]
    },
    {
      "cell_type": "code",
      "execution_count": null,
      "metadata": {
        "colab": {
          "base_uri": "https://localhost:8080/"
        },
        "id": "91BmjHs64iFz",
        "outputId": "c9b25b11-6cf8-45e6-e334-20c82fca5747"
      },
      "outputs": [
        {
          "output_type": "execute_result",
          "data": {
            "text/plain": [
              "Text(0.5, 1.0, 'val_accuracy')"
            ]
          },
          "metadata": {},
          "execution_count": 117
        },
        {
          "output_type": "display_data",
          "data": {
            "text/plain": [
              "<Figure size 432x360 with 1 Axes>"
            ],
            "image/png": "[encoded data removed]"
          },
          "metadata": {}
        }
      ],
      "source": [
        "accuracy_values = history_dict['accuracy']\n",
        "val_accuracy_values=history_dict['val_accuracy']\n",
        "f, ax = plt.subplots(ncols=1,nrows=1, figsize=(6,5))\n",
        "plt.plot(val_accuracy_values,'-r',label='val_accuracy')\n",
        "plt.plot(accuracy_values,'-b',label='accuracy')\n",
        "ax.patch.set_facecolor('white')\n",
        "ax.grid(True, color = '#E0E0E0')\n",
        "ax.patch.set_edgecolor('black')  \n",
        "ax.patch.set_linewidth('1.5') \n",
        "ax.legend(loc=\"lower right\", prop={'size': 14}, facecolor = 'white', edgecolor='black')\n",
        "plt.xlabel(\"Epochs\")\n",
        "plt.ylabel(\"accuracy\")\n",
        "plt.title('val_accuracy', fontsize=14)"
      ]
    },
    {
      "cell_type": "markdown",
      "metadata": {
        "id": "f7vS0TzfB7Ij"
      },
      "source": [
        "#***diagram roc_auc***"
      ]
    },
    {
      "cell_type": "code",
      "execution_count": null,
      "metadata": {
        "colab": {
          "base_uri": "https://localhost:8080/"
        },
        "id": "4pVCaXNf4iF0",
        "outputId": "e97a4b60-7c60-48d4-bb11-ac7fbf37d727"
      },
      "outputs": [
        {
          "output_type": "display_data",
          "data": {
            "text/plain": [
              "<Figure size 432x360 with 1 Axes>"
            ],
            "image/png": "[encoded data removed]"
          },
          "metadata": {}
        }
      ],
      "source": [
        "from sklearn.metrics import roc_curve\n",
        "fpr, tpr, thresholds = roc_curve(y_test1, y_prob,pos_label=True)\n",
        "from sklearn.metrics import auc\n",
        "f, ax = plt.subplots(ncols=1,nrows=1, figsize=(6,5))\n",
        "auc = auc(fpr, tpr)\n",
        "ax.plot([0, 1], [0, 1], 'k--')\n",
        "ax.plot(fpr, tpr,color = \"#0101DF\", label='keras(ROC_AUC = {:.4f})'.format(auc))\n",
        "plt.xlabel('False Positive Rate',fontsize=14)\n",
        "plt.ylabel('True Positive Rate',fontsize=14)\n",
        "plt.title('ROC_AUC', fontsize=14) \n",
        "ax.patch.set_facecolor('white')\n",
        "ax.grid(True, color = '#E0E0E0')\n",
        "ax.patch.set_edgecolor('black')  \n",
        "ax.patch.set_linewidth('1.5') \n",
        "ax.legend(loc=\"lower right\", prop={'size': 14}, facecolor = 'white', edgecolor='black')\n",
        "plt.show()"
      ]
    },
    {
      "cell_type": "code",
      "execution_count": null,
      "metadata": {
        "colab": {
          "base_uri": "https://localhost:8080/"
        },
        "id": "n58F943Q4iF1",
        "outputId": "2029ed9d-3b96-4802-80a7-dfa95f8285c0"
      },
      "outputs": [
        {
          "output_type": "display_data",
          "data": {
            "text/plain": [
              "<Figure size 432x360 with 1 Axes>"
            ],
            "image/png": "[encoded data removed]"
          },
          "metadata": {}
        }
      ],
      "source": [
        "from sklearn.metrics import roc_curve\n",
        "fpr, tpr, thresholds = roc_curve(y_test1, y_prob,pos_label=True)\n",
        "from sklearn.metrics import auc\n",
        "f, ax = plt.subplots(ncols=1,nrows=1, figsize=(6,5))\n",
        "auc = auc(fpr, tpr)\n",
        "ax.plot([0, 1], [0, 1], 'k--')\n",
        "ax.plot(fpr, tpr,color = \"#0101DF\", label='keras(ROC_AUC = {:.4f})'.format(auc))\n",
        "plt.xlabel('False Positive Rate',fontsize=14)\n",
        "plt.ylabel('True Positive Rate',fontsize=14)\n",
        "#plt.title('ROC_AUC', fontsize=14) \n",
        "ax.patch.set_facecolor('white')\n",
        "ax.grid(True, color = '#E0E0E0')\n",
        "ax.patch.set_edgecolor('black')  \n",
        "ax.patch.set_linewidth('1.5') \n",
        "ax.legend(loc=\"lower right\", prop={'size': 14}, facecolor = 'white', edgecolor='black')\n",
        "plt.show()"
      ]
    },
    {
      "cell_type": "markdown",
      "metadata": {
        "id": "nhy9rHTXCGut"
      },
      "source": [
        "#***diagram precision recall***"
      ]
    },
    {
      "cell_type": "code",
      "execution_count": null,
      "metadata": {
        "colab": {
          "base_uri": "https://localhost:8080/"
        },
        "id": "CQDv_xWp4iF2",
        "outputId": "be94ea1c-e526-4f4b-c014-90f027648a68"
      },
      "outputs": [
        {
          "output_type": "display_data",
          "data": {
            "text/plain": [
              "<Figure size 432x360 with 1 Axes>"
            ],
            "image/png": "[encoded data removed]"
          },
          "metadata": {}
        }
      ],
      "source": [
        "from sklearn.metrics import precision_recall_curve\n",
        "precision,recall, _ = precision_recall_curve(y_test1, y_prob)\n",
        "f, ax = plt.subplots(ncols=1,nrows=1, figsize=(6,5))\n",
        "plt.plot([0, 1], [1, 0], linestyle='--', lw=2, color='#808A87', alpha=.8)\n",
        "plt.plot(precision,recall,  color=\"#DF0101\", label='keras(AUC_PR = {:.4f})'.format(round(average_precision_score(y_test1, y_prob),4)))\n",
        "#plt.plot(precision,recall,  color=\"#DF0101\", label='keras(AUC_PR)')\n",
        "plt.xlabel('Recall',fontsize=14)\n",
        "plt.ylabel('Precision',fontsize=14)\n",
        "#plt.title('Precision-Recall curve',fontsize=14) \n",
        "ax.patch.set_facecolor('white')\n",
        "ax.grid(True, color = '#E0E0E0')\n",
        "ax.patch.set_edgecolor('black')  \n",
        "ax.patch.set_linewidth('1.5') \n",
        "ax.legend(loc=\"lower left\", prop={'size': 14}, facecolor = 'white', edgecolor='black')\n",
        "plt.show()"
      ]
    }
  ],
  "metadata": {
    "accelerator": "GPU",
    "colab": {
      "collapsed_sections": [
        "xIkQuF_bErp5",
        "_cYFHYRGhpeJ",
        "FQ1UhAM2bA8c",
        "Z_wjwYwqIXod",
        "Th6-xHIrHOvZ",
        "wN1KcHcHte6h",
        "CWIYpNQJG0pg",
        "NXj3NEalHIla",
        "A1yyBkafEfog",
        "rm6JC2uMTyfm",
        "MQjSODMi_K_v",
        "SjcjNg6I_YxJ",
        "41TUGwtt_noC",
        "36IPzxxBBb37",
        "VenJ_iNTV0wo",
        "8GrsoHwaF56q",
        "RTW6o1dJmGVz",
        "7Pc3NhUcoHQi",
        "RPivywgGohTF",
        "XOkxHYL0ilp4",
        "PM7LLx3ZByqZ",
        "9KGHFEcs9_rV",
        "l-eev_73jeIT",
        "hL0UKrDUCImr",
        "-E88g9E5DQSe",
        "Z0pJ4OjIDQSh",
        "l77EKUQjDQSi",
        "3bBQHjn1--fV",
        "1KuNzOs-ByYC",
        "VrNYC9baB3GK",
        "2Wr9dGq6CCoz",
        "f7vS0TzfB7Ij",
        "nhy9rHTXCGut"
      ],
      "name": "Fraud Detection in Banking Data by Machine Learning Techniques.ipynb",
      "provenance": []
    },
    "kernelspec": {
      "display_name": "Python 3",
      "name": "python3"
    },
    "language_info": {
      "name": "python"
    }
  },
  "nbformat": 4,
  "nbformat_minor": 0
}